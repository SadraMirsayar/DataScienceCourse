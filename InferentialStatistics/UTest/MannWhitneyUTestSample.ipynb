{
 "cells": [
  {
   "cell_type": "markdown",
   "id": "3d0f9a81-eced-418d-9591-fda63f453568",
   "metadata": {},
   "source": [
    "# mannwhitneyu\n",
    "###### https://docs.scipy.org/doc/scipy/reference/generated/scipy.stats.mannwhitneyu.html"
   ]
  },
  {
   "cell_type": "code",
   "execution_count": 1,
   "id": "64df064f-5993-49e3-afc4-48b61973a768",
   "metadata": {},
   "outputs": [],
   "source": [
    "from scipy import stats"
   ]
  },
  {
   "cell_type": "code",
   "execution_count": 2,
   "id": "6768aef5-6ba6-42a1-89a4-97afbd4ab5c6",
   "metadata": {},
   "outputs": [],
   "source": [
    "g1 = [20, 23, 21, 25, 18, 17, 18, 24, 20, 24, 23, 19]\n",
    "g2 = [24, 25, 21, 22, 23, 18, 17, 28, 24, 27, 21, 23]"
   ]
  },
  {
   "cell_type": "code",
   "execution_count": 3,
   "id": "c815ae08-ecea-4dff-9f5a-0b2eaa1e76fb",
   "metadata": {},
   "outputs": [
    {
     "data": {
      "text/plain": [
       "MannwhitneyuResult(statistic=50.0, pvalue=0.21138945901258455)"
      ]
     },
     "execution_count": 3,
     "metadata": {},
     "output_type": "execute_result"
    }
   ],
   "source": [
    "stats.mannwhitneyu(g1, g2, alternative='two-sided')\n",
    "# ValueError: `alternative` must be one of {'greater', 'two-sided', 'less'}."
   ]
  },
  {
   "cell_type": "code",
   "execution_count": 4,
   "id": "8f9a87e5-127f-4ef2-9d68-d482458eb647",
   "metadata": {},
   "outputs": [
    {
     "data": {
      "text/plain": [
       "MannwhitneyuResult(statistic=50.0, pvalue=0.9045433311864579)"
      ]
     },
     "execution_count": 4,
     "metadata": {},
     "output_type": "execute_result"
    }
   ],
   "source": [
    "stats.mannwhitneyu(g1, g2, alternative='greater')"
   ]
  },
  {
   "cell_type": "code",
   "execution_count": 5,
   "id": "3d8acb38-8f34-4ee3-8be3-719b547d4749",
   "metadata": {},
   "outputs": [
    {
     "data": {
      "text/plain": [
       "MannwhitneyuResult(statistic=50.0, pvalue=0.10569472950629227)"
      ]
     },
     "execution_count": 5,
     "metadata": {},
     "output_type": "execute_result"
    }
   ],
   "source": [
    "stats.mannwhitneyu(g1, g2, alternative='less')"
   ]
  },
  {
   "cell_type": "code",
   "execution_count": 6,
   "id": "d078e5fa-39e2-4846-9661-1323357e7e45",
   "metadata": {},
   "outputs": [
    {
     "data": {
      "text/plain": [
       "0.21138945901258455"
      ]
     },
     "execution_count": 6,
     "metadata": {},
     "output_type": "execute_result"
    }
   ],
   "source": [
    "# stats.mannwhitneyu(g1, g2, alternative='less')\n",
    "# MannwhitneyuResult(statistic=50.0, pvalue=0.10569472950629227)\n",
    "pvalue=0.10569472950629227\n",
    "pvalue * 2"
   ]
  }
 ],
 "metadata": {
  "kernelspec": {
   "display_name": "Python 3 (ipykernel)",
   "language": "python",
   "name": "python3"
  },
  "language_info": {
   "codemirror_mode": {
    "name": "ipython",
    "version": 3
   },
   "file_extension": ".py",
   "mimetype": "text/x-python",
   "name": "python",
   "nbconvert_exporter": "python",
   "pygments_lexer": "ipython3",
   "version": "3.12.1"
  }
 },
 "nbformat": 4,
 "nbformat_minor": 5
}
