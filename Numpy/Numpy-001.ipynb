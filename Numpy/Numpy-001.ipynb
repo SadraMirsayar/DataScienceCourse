{
 "cells": [
  {
   "cell_type": "markdown",
   "id": "361fa493-b168-41a2-82eb-31c6d51fdfa7",
   "metadata": {},
   "source": [
    "# Numpy"
   ]
  },
  {
   "cell_type": "code",
   "execution_count": 1,
   "id": "91be8a2c-3f62-4f2e-9309-b3ab8b88c201",
   "metadata": {},
   "outputs": [],
   "source": [
    "# !pip install numpy"
   ]
  },
  {
   "cell_type": "code",
   "execution_count": 2,
   "id": "005263c1-a3c5-45df-99f4-64c8fe7210af",
   "metadata": {},
   "outputs": [],
   "source": [
    "import numpy"
   ]
  },
  {
   "cell_type": "code",
   "execution_count": 3,
   "id": "bc6660a7-5205-4b75-a0ed-5428aa49e121",
   "metadata": {},
   "outputs": [],
   "source": [
    "vector = [1, 2, 3]"
   ]
  },
  {
   "cell_type": "code",
   "execution_count": 4,
   "id": "8fc8f063-e566-480a-98eb-b45fdbdc7dfc",
   "metadata": {},
   "outputs": [
    {
     "name": "stdout",
     "output_type": "stream",
     "text": [
      "<class 'list'>\n"
     ]
    }
   ],
   "source": [
    "print(type(vector))"
   ]
  },
  {
   "cell_type": "code",
   "execution_count": 5,
   "id": "d9824169-6e4b-4d2f-88aa-ef6036f9bdcd",
   "metadata": {},
   "outputs": [],
   "source": [
    "nvector = numpy.array(vector)"
   ]
  },
  {
   "cell_type": "code",
   "execution_count": 6,
   "id": "a12ce240-7f35-4271-8bc1-e0f9acf23b7b",
   "metadata": {},
   "outputs": [
    {
     "name": "stdout",
     "output_type": "stream",
     "text": [
      "<class 'numpy.ndarray'>\n"
     ]
    }
   ],
   "source": [
    "# The N-dimensional array (ndarray)\n",
    "# https://numpy.org/doc/stable/reference/generated/numpy.ndarray.html\n",
    "\n",
    "print(type(nvector))"
   ]
  },
  {
   "cell_type": "code",
   "execution_count": 7,
   "id": "a3b7d3f7-cb45-4b01-8892-60f56bcaaa7c",
   "metadata": {},
   "outputs": [
    {
     "data": {
      "text/plain": [
       "(3,)"
      ]
     },
     "execution_count": 7,
     "metadata": {},
     "output_type": "execute_result"
    }
   ],
   "source": [
    "nvector.shape"
   ]
  },
  {
   "cell_type": "code",
   "execution_count": 8,
   "id": "8482625a-5ca1-45ec-952c-c8c0cf720ce5",
   "metadata": {},
   "outputs": [
    {
     "name": "stdout",
     "output_type": "stream",
     "text": [
      "<class 'list'>\n"
     ]
    }
   ],
   "source": [
    "matrix = [\n",
    "    [1, 2, 3],\n",
    "    [4, 5, 6],\n",
    "    [7, 8, 9]\n",
    "]\n",
    "\n",
    "print(type(matrix))"
   ]
  },
  {
   "cell_type": "code",
   "execution_count": 9,
   "id": "cabd3c89-6eff-4d26-8a71-e1362ff2ea09",
   "metadata": {},
   "outputs": [
    {
     "name": "stdout",
     "output_type": "stream",
     "text": [
      "<class 'numpy.ndarray'>\n"
     ]
    }
   ],
   "source": [
    "nmatrix = numpy.array(matrix)\n",
    "\n",
    "print(type(nmatrix))"
   ]
  },
  {
   "cell_type": "code",
   "execution_count": 10,
   "id": "3fa09653-059f-4cb3-b9f7-64a06e58b368",
   "metadata": {},
   "outputs": [
    {
     "data": {
      "text/plain": [
       "(3, 3)"
      ]
     },
     "execution_count": 10,
     "metadata": {},
     "output_type": "execute_result"
    }
   ],
   "source": [
    "nmatrix.shape"
   ]
  },
  {
   "cell_type": "markdown",
   "id": "ae02aef5-146b-45d8-8663-9296edd53c3f",
   "metadata": {},
   "source": [
    "##### https://tensorflownet.readthedocs.io/en/latest/Tensor.html\n",
    "<center>\n",
    "    <img src=\"https://tensorflownet.readthedocs.io/en/latest/_static/tensor-naming.png\" width=\"800\" alt=\"Scalars, Vectors, Matrices and Tensors with Tensorflow 2.0 logo\"  />\n",
    "</center>"
   ]
  },
  {
   "cell_type": "markdown",
   "id": "7be249b2-ef4f-445f-8b38-8ab58410a9b4",
   "metadata": {},
   "source": [
    "<center>\n",
    "    <img src=\"https://www.researchgate.net/profile/Kim-Batselier/publication/310823791/figure/fig2/AS:443479336722433@1482745121813/An-example-tensor-A-R-432.png\" width=\"250\">\n",
    "</center>"
   ]
  },
  {
   "cell_type": "code",
   "execution_count": 11,
   "id": "ab6c0d85-cf3b-493c-94f0-9aac1f41c1ee",
   "metadata": {},
   "outputs": [
    {
     "name": "stdout",
     "output_type": "stream",
     "text": [
      "<class 'list'>\n"
     ]
    }
   ],
   "source": [
    "# SCALAR\n",
    "i = 11\n",
    "\n",
    "# Row Vector (shape 1×3)\n",
    "j = [5, 3, 7]\n",
    "\n",
    "# Column Vector (shape 3×1)\n",
    "k = [\n",
    "    5,\n",
    "    1.5,\n",
    "    2\n",
    "]\n",
    "\n",
    "# MATRIX\n",
    "l = [\n",
    "    [4, 19, 8],\n",
    "    [16, 3, 15]\n",
    "]\n",
    "\n",
    "# TENSOR\n",
    "x = [\n",
    "    [[1, 2, 3], ['a', 'b', 'c'], ['A', 'B', 'C']],\n",
    "    [[4, 5, 6], ['d', 'e', 'f'], ['D', 'E', 'F']],\n",
    "    [[7, 8, 9], ['g', 'h', 'i'], ['G', 'H', 'I']]\n",
    "]\n",
    "\n",
    "print(type(x))"
   ]
  },
  {
   "cell_type": "code",
   "execution_count": 12,
   "id": "aa68992e-4900-4885-9b75-ea861f844332",
   "metadata": {},
   "outputs": [
    {
     "name": "stdout",
     "output_type": "stream",
     "text": [
      "Python List Data Type (Data Structure)\n",
      "<class 'list'>\n",
      "[1, 2, 3]\n"
     ]
    },
    {
     "data": {
      "text/plain": [
       "[1, 2, 3]"
      ]
     },
     "execution_count": 12,
     "metadata": {},
     "output_type": "execute_result"
    }
   ],
   "source": [
    "# https://docs.python.org/3/tutorial/datastructures.html\n",
    "print('Python List Data Type (Data Structure)')\n",
    "array = [1, 2, 3]\n",
    "print(type(array))\n",
    "print(array)\n",
    "array"
   ]
  },
  {
   "cell_type": "code",
   "execution_count": 13,
   "id": "27dfe901-0ecb-40ea-81e9-1cc962b0c688",
   "metadata": {},
   "outputs": [
    {
     "name": "stdout",
     "output_type": "stream",
     "text": [
      "The N-dimensional array (ndarray)\n",
      "<class 'numpy.ndarray'>\n",
      "[1 2 3]\n"
     ]
    },
    {
     "data": {
      "text/plain": [
       "array([1, 2, 3])"
      ]
     },
     "execution_count": 13,
     "metadata": {},
     "output_type": "execute_result"
    }
   ],
   "source": [
    "# https://numpy.org/doc/stable/reference/arrays.ndarray.html\n",
    "narr = numpy.array(array)\n",
    "print('The N-dimensional array (ndarray)')\n",
    "print(type(narr))\n",
    "print(narr)\n",
    "narr"
   ]
  },
  {
   "cell_type": "code",
   "execution_count": 14,
   "id": "72dfedde-9725-4a0e-87fb-5d4b2d195151",
   "metadata": {},
   "outputs": [
    {
     "data": {
      "text/plain": [
       "array([[1, 2, 3, 1],\n",
       "       [2, 3, 1, 2],\n",
       "       [3, 1, 2, 3],\n",
       "       [1, 2, 3, 1]])"
      ]
     },
     "execution_count": 14,
     "metadata": {},
     "output_type": "execute_result"
    }
   ],
   "source": [
    "numpy.resize(narr, (4, 4))"
   ]
  },
  {
   "cell_type": "code",
   "execution_count": 15,
   "id": "96be0cca-b301-46b6-9cef-24e417777848",
   "metadata": {},
   "outputs": [
    {
     "data": {
      "text/plain": [
       "array([[1],\n",
       "       [2],\n",
       "       [3]])"
      ]
     },
     "execution_count": 15,
     "metadata": {},
     "output_type": "execute_result"
    }
   ],
   "source": [
    "numpy.resize(narr, (3, 1))"
   ]
  },
  {
   "cell_type": "code",
   "execution_count": 16,
   "id": "30e896e1-eec5-4cf2-8665-208faba673f4",
   "metadata": {},
   "outputs": [
    {
     "data": {
      "text/plain": [
       "array([[1],\n",
       "       [2]])"
      ]
     },
     "execution_count": 16,
     "metadata": {},
     "output_type": "execute_result"
    }
   ],
   "source": [
    "numpy.resize(narr, (2, 1))"
   ]
  },
  {
   "cell_type": "code",
   "execution_count": 17,
   "id": "66c478a5-b4a8-431f-beda-84c9de252739",
   "metadata": {},
   "outputs": [],
   "source": [
    "# narr.resize((3, 3))\n",
    "\n",
    "# OUTPUT ---->\n",
    "'''\n",
    "ValueError: cannot resize an array that references or is referenced\n",
    "by another array in this way.\n",
    "Use the np.resize function or refcheck=False\n",
    "'''\n",
    "#        <----\n",
    "\n",
    "# refcheck: bool, optional\n",
    "# If refcheck=False, reference count will not be checked. Default is True.\n",
    "# https://numpy.org/doc/stable/reference/generated/numpy.ndarray.resize.html\n",
    "\n",
    "narr.resize((3, 3), refcheck=False)"
   ]
  },
  {
   "cell_type": "code",
   "execution_count": 18,
   "id": "74ec4be2-6876-4624-949d-bedba2b78089",
   "metadata": {},
   "outputs": [
    {
     "name": "stdout",
     "output_type": "stream",
     "text": [
      "<class 'numpy.ndarray'>\n",
      "\n",
      "[[1 2 3]\n",
      " [0 0 0]\n",
      " [0 0 0]]\n",
      "\n"
     ]
    },
    {
     "data": {
      "text/plain": [
       "array([[1, 2, 3],\n",
       "       [0, 0, 0],\n",
       "       [0, 0, 0]])"
      ]
     },
     "execution_count": 18,
     "metadata": {},
     "output_type": "execute_result"
    }
   ],
   "source": [
    "print(type(narr))\n",
    "print()\n",
    "print(narr)\n",
    "print()\n",
    "narr"
   ]
  },
  {
   "cell_type": "code",
   "execution_count": 19,
   "id": "ba27744f-e1a1-42ac-ba59-45ace733e8e3",
   "metadata": {},
   "outputs": [
    {
     "name": "stdout",
     "output_type": "stream",
     "text": [
      "[[1. 1. 1. 1. 1.]\n",
      " [1. 1. 1. 1. 1.]\n",
      " [1. 1. 1. 1. 1.]\n",
      " [1. 1. 1. 1. 1.]]\n",
      "\n",
      "1.0\n",
      "<class 'numpy.float64'>\n",
      "\n"
     ]
    },
    {
     "data": {
      "text/plain": [
       "array([[1., 1., 1., 1., 1.],\n",
       "       [1., 1., 1., 1., 1.],\n",
       "       [1., 1., 1., 1., 1.],\n",
       "       [1., 1., 1., 1., 1.]])"
      ]
     },
     "execution_count": 19,
     "metadata": {},
     "output_type": "execute_result"
    }
   ],
   "source": [
    "matrix = numpy.ones((4, 5))\n",
    "\n",
    "print(matrix)\n",
    "print()\n",
    "\n",
    "print(matrix[0][3])\n",
    "print(type(matrix[0][3]))\n",
    "print()\n",
    "\n",
    "matrix"
   ]
  },
  {
   "cell_type": "code",
   "execution_count": 20,
   "id": "3a529e42-4b8e-4a4f-b612-bdbd757fc15f",
   "metadata": {},
   "outputs": [
    {
     "name": "stdout",
     "output_type": "stream",
     "text": [
      "[[0. 0. 0. 0. 0.]\n",
      " [0. 0. 0. 0. 0.]\n",
      " [0. 0. 0. 0. 0.]\n",
      " [0. 0. 0. 0. 0.]]\n",
      "\n",
      "0.0\n",
      "<class 'numpy.float64'>\n",
      "\n"
     ]
    },
    {
     "data": {
      "text/plain": [
       "array([[0., 0., 0., 0., 0.],\n",
       "       [0., 0., 0., 0., 0.],\n",
       "       [0., 0., 0., 0., 0.],\n",
       "       [0., 0., 0., 0., 0.]])"
      ]
     },
     "execution_count": 20,
     "metadata": {},
     "output_type": "execute_result"
    }
   ],
   "source": [
    "matrix = numpy.zeros((4, 5))\n",
    "\n",
    "print(matrix)\n",
    "print()\n",
    "\n",
    "print(matrix[0][4])\n",
    "print(type(matrix[0][4]))\n",
    "print()\n",
    "\n",
    "matrix"
   ]
  },
  {
   "cell_type": "code",
   "execution_count": 21,
   "id": "8a1f93b2-5f80-423f-a817-a55a03e1f4ac",
   "metadata": {},
   "outputs": [
    {
     "name": "stdout",
     "output_type": "stream",
     "text": [
      "[[1 2 3]\n",
      " [0 0 0]\n",
      " [0 0 0]]\n",
      "\n"
     ]
    },
    {
     "data": {
      "text/plain": [
       "array([1, 0, 0])"
      ]
     },
     "execution_count": 21,
     "metadata": {},
     "output_type": "execute_result"
    }
   ],
   "source": [
    "print(narr)\n",
    "print()\n",
    "\n",
    "# diagonal ---> خط مورب یا قطر\n",
    "# Extract a diagonal or construct a diagonal array.\n",
    "# https://numpy.org/doc/stable/reference/generated/numpy.diag.html\n",
    "numpy.diag(narr)"
   ]
  },
  {
   "cell_type": "code",
   "execution_count": 22,
   "id": "f2c25070-e873-4948-b565-10530877c44d",
   "metadata": {},
   "outputs": [
    {
     "data": {
      "text/plain": [
       "array([4, 4, 4, 4, 4, 3, 3, 3, 3, 3, 2, 2, 2, 2, 2])"
      ]
     },
     "execution_count": 22,
     "metadata": {},
     "output_type": "execute_result"
    }
   ],
   "source": [
    "numpy.repeat([4, 3, 2], 5)"
   ]
  },
  {
   "cell_type": "code",
   "execution_count": 23,
   "id": "90257fd8-0886-4aec-a929-d53fd1cbd8bb",
   "metadata": {},
   "outputs": [
    {
     "data": {
      "text/plain": [
       "array([4, 4, 4, 4, 4, 3, 3, 3, 3, 3, 2, 2, 2, 2, 2])"
      ]
     },
     "execution_count": 23,
     "metadata": {},
     "output_type": "execute_result"
    }
   ],
   "source": [
    "numpy.repeat(numpy.array([4, 3, 2]), 5)"
   ]
  },
  {
   "cell_type": "code",
   "execution_count": 24,
   "id": "72353506-3a86-40fe-9ecd-9a12d2625cab",
   "metadata": {},
   "outputs": [
    {
     "data": {
      "text/plain": [
       "[1, 1.5, 'number', True]"
      ]
     },
     "execution_count": 24,
     "metadata": {},
     "output_type": "execute_result"
    }
   ],
   "source": [
    "# Any type of data can be placed inside a Python list.\n",
    "pylist = [1, 1.5, 'number', True]\n",
    "\n",
    "pylist"
   ]
  },
  {
   "cell_type": "code",
   "execution_count": 25,
   "id": "51473915-9079-4f97-b582-18d6cfdb8f02",
   "metadata": {},
   "outputs": [
    {
     "name": "stdout",
     "output_type": "stream",
     "text": [
      "[ 1  6 11 16]\n",
      "\n",
      "<class 'numpy.ndarray'>\n"
     ]
    },
    {
     "data": {
      "text/plain": [
       "array([[ 1,  2,  3,  4],\n",
       "       [ 5,  6,  7,  8],\n",
       "       [ 9, 10, 11, 12],\n",
       "       [13, 14, 15, 16]])"
      ]
     },
     "execution_count": 25,
     "metadata": {},
     "output_type": "execute_result"
    }
   ],
   "source": [
    "# Inside numpy, it is better that all members are of the same data type. Because it speeds up the processes.\n",
    "narray = numpy.array([[1, 2, 3, 4], [5, 6, 7, 8], [9, 10, 11, 12], [13, 14, 15, 16]])\n",
    "\n",
    "print(numpy.diag(narray))\n",
    "print()\n",
    "\n",
    "print(type(narray))\n",
    "narray"
   ]
  },
  {
   "cell_type": "code",
   "execution_count": 26,
   "id": "d72e614e-8369-4824-9bf1-feb1d8bb9a0f",
   "metadata": {},
   "outputs": [
    {
     "name": "stdout",
     "output_type": "stream",
     "text": [
      "['1' '2' '7' '12']\n",
      "\n",
      "<class 'numpy.ndarray'>\n",
      "\n"
     ]
    },
    {
     "data": {
      "text/plain": [
       "array([['1', '1.5', 'number', 'True'],\n",
       "       ['1', '2', '3', '4'],\n",
       "       ['5', '6', '7', '8'],\n",
       "       ['9', '10', '11', '12']], dtype='<U32')"
      ]
     },
     "execution_count": 26,
     "metadata": {},
     "output_type": "execute_result"
    }
   ],
   "source": [
    "narray = numpy.array([ [1, 1.5, 'number', True], [1, 2, 3, 4], [5, 6, 7, 8], [9, 10, 11, 12] ])\n",
    "\n",
    "print(numpy.diag(narray))\n",
    "print()\n",
    "\n",
    "print(type(narray))\n",
    "print()\n",
    "\n",
    "narray"
   ]
  },
  {
   "cell_type": "code",
   "execution_count": 27,
   "id": "78891980-4bfc-4f53-b934-81fb210cd0ba",
   "metadata": {},
   "outputs": [
    {
     "name": "stdout",
     "output_type": "stream",
     "text": [
      "<class 'numpy.int32'>\n"
     ]
    },
    {
     "data": {
      "text/plain": [
       "array([[1, 1, 1, 1, 1],\n",
       "       [1, 1, 1, 1, 1],\n",
       "       [1, 1, 1, 1, 1],\n",
       "       [1, 1, 1, 1, 1]])"
      ]
     },
     "execution_count": 27,
     "metadata": {},
     "output_type": "execute_result"
    }
   ],
   "source": [
    "m1 = numpy.ones((4, 5), int)\n",
    "print(type(m1[0][3]))\n",
    "m1"
   ]
  },
  {
   "cell_type": "code",
   "execution_count": 28,
   "id": "9a76cadd-c0a3-4a7c-8faa-d1210de34033",
   "metadata": {},
   "outputs": [
    {
     "name": "stdout",
     "output_type": "stream",
     "text": [
      "<class 'numpy.int32'>\n"
     ]
    },
    {
     "data": {
      "text/plain": [
       "array([[0, 0, 0, 0, 0],\n",
       "       [0, 0, 0, 0, 0],\n",
       "       [0, 0, 0, 0, 0],\n",
       "       [0, 0, 0, 0, 0]])"
      ]
     },
     "execution_count": 28,
     "metadata": {},
     "output_type": "execute_result"
    }
   ],
   "source": [
    "m2 = numpy.zeros((4, 5), int)\n",
    "print(type(m1[0][3]))\n",
    "m2"
   ]
  },
  {
   "cell_type": "markdown",
   "id": "24c8c5b5-20ed-4ab9-9064-2faaaee621c5",
   "metadata": {},
   "source": [
    "<!-- https://stackoverflow.com/questions/33356442/when-should-i-use-hstack-vstack-vs-append-vs-concatenate-vs-column-stack -->\n",
    "<center>\n",
    "    <a href=\"https://stackoverflow.com/questions/33356442/when-should-i-use-hstack-vstack-vs-append-vs-concatenate-vs-column-stack\">\n",
    "        when-should-i-use-hstack-vstack-vs-append-vs-concatenate-vs-column-stack\n",
    "    </a>\n",
    "    <!-- <img src=\"https://i.sstatic.net/hSM5G.png\" width=\"800\" alt=\"\"  /> -->\n",
    "    <!-- <img src=\"https://i.sstatic.net/1QBr4.png\" width=\"800\" alt=\"\"  /> -->\n",
    "    <!-- <img src=\"https://i.sstatic.net/dSZuK.png\" width=\"800\" alt=\"\"  /> -->\n",
    "</center>"
   ]
  },
  {
   "cell_type": "code",
   "execution_count": 29,
   "id": "90bfc048-49b7-43b9-86aa-482256a7f669",
   "metadata": {},
   "outputs": [
    {
     "data": {
      "text/plain": [
       "array([[1, 1, 1, 1, 1],\n",
       "       [1, 1, 1, 1, 1],\n",
       "       [1, 1, 1, 1, 1],\n",
       "       [1, 1, 1, 1, 1],\n",
       "       [0, 0, 0, 0, 0],\n",
       "       [0, 0, 0, 0, 0],\n",
       "       [0, 0, 0, 0, 0],\n",
       "       [0, 0, 0, 0, 0]])"
      ]
     },
     "execution_count": 29,
     "metadata": {},
     "output_type": "execute_result"
    }
   ],
   "source": [
    "# https://numpy.org/doc/stable/reference/generated/numpy.vstack.html\n",
    "# Stack arrays in sequence vertically (row wise).\n",
    "numpy.vstack([m1, m2])"
   ]
  },
  {
   "cell_type": "code",
   "execution_count": 30,
   "id": "49ea8b8f-133e-424d-8381-811cfd6f1205",
   "metadata": {},
   "outputs": [
    {
     "data": {
      "text/plain": [
       "array([[1, 1, 1, 1, 1, 0, 0, 0, 0, 0],\n",
       "       [1, 1, 1, 1, 1, 0, 0, 0, 0, 0],\n",
       "       [1, 1, 1, 1, 1, 0, 0, 0, 0, 0],\n",
       "       [1, 1, 1, 1, 1, 0, 0, 0, 0, 0]])"
      ]
     },
     "execution_count": 30,
     "metadata": {},
     "output_type": "execute_result"
    }
   ],
   "source": [
    "# https://numpy.org/doc/stable/reference/generated/numpy.hstack.html\n",
    "# Stack arrays in sequence horizontally (column wise).\n",
    "numpy.hstack([m1, m2])"
   ]
  },
  {
   "cell_type": "markdown",
   "id": "913b495a-a284-4e3a-80db-a7b061d21a67",
   "metadata": {},
   "source": [
    "###### [1, 2, 3] * [4, 5, 6]\n",
    "\n",
    "###### ---------------------------------------------------------------------------\n",
    "###### TypeError                                 Traceback (most recent call last)\n",
    "###### Cell In[66], line 1\n",
    "###### ----> 1 [1, 2, 3] * [4, 5, 6]\n",
    "\n",
    "###### TypeError: can't multiply sequence by non-int of type 'list'"
   ]
  },
  {
   "cell_type": "code",
   "execution_count": 31,
   "id": "2c86c836-8015-4ab3-a6e4-4f6bf9fff354",
   "metadata": {},
   "outputs": [],
   "source": [
    "x = numpy.array([1, 2, 3])\n",
    "y = numpy.array([4, 5, 6])"
   ]
  },
  {
   "cell_type": "code",
   "execution_count": 32,
   "id": "9333c14d-75bf-4eb1-bf70-792291fd268a",
   "metadata": {},
   "outputs": [
    {
     "data": {
      "text/plain": [
       "array([ 4, 10, 18])"
      ]
     },
     "execution_count": 32,
     "metadata": {},
     "output_type": "execute_result"
    }
   ],
   "source": [
    "# Linear Algebra!\n",
    "z = x * y\n",
    "z"
   ]
  },
  {
   "cell_type": "code",
   "execution_count": 33,
   "id": "7d478118-aaa6-484b-8277-e14c0a18c21f",
   "metadata": {},
   "outputs": [
    {
     "data": {
      "text/plain": [
       "array([1, 4, 9])"
      ]
     },
     "execution_count": 33,
     "metadata": {},
     "output_type": "execute_result"
    }
   ],
   "source": [
    "x ** 2"
   ]
  },
  {
   "cell_type": "code",
   "execution_count": 34,
   "id": "34c33b6c-edb9-4212-9da9-338c11a5c0a5",
   "metadata": {},
   "outputs": [
    {
     "data": {
      "text/plain": [
       "32"
      ]
     },
     "execution_count": 34,
     "metadata": {},
     "output_type": "execute_result"
    }
   ],
   "source": [
    "# https://numpy.org/doc/stable/reference/generated/numpy.dot.html\n",
    "# Dot product of two arrays. Specifically,\n",
    "\n",
    "x.dot(y)\n",
    "# (1*4) + (2*5) + (3*6) ----> 4 + 10 + 18 = 32"
   ]
  },
  {
   "cell_type": "code",
   "execution_count": 35,
   "id": "444ca7f2-54ee-42c8-a6ea-f1e8b4036728",
   "metadata": {},
   "outputs": [
    {
     "data": {
      "text/plain": [
       "array([[1, 2, 3],\n",
       "       [0, 0, 0],\n",
       "       [0, 0, 0]])"
      ]
     },
     "execution_count": 35,
     "metadata": {},
     "output_type": "execute_result"
    }
   ],
   "source": [
    "narr"
   ]
  },
  {
   "cell_type": "code",
   "execution_count": 36,
   "id": "da89b689-a65e-4a69-acbe-ea621f33e9d9",
   "metadata": {},
   "outputs": [
    {
     "data": {
      "text/plain": [
       "array([[1, 0, 0],\n",
       "       [2, 0, 0],\n",
       "       [3, 0, 0]])"
      ]
     },
     "execution_count": 36,
     "metadata": {},
     "output_type": "execute_result"
    }
   ],
   "source": [
    "# https://numpy.org/doc/stable/reference/generated/numpy.ndarray.T.html\n",
    "# View of the transposed array.\n",
    "\n",
    "narr.T"
   ]
  },
  {
   "cell_type": "code",
   "execution_count": 37,
   "id": "ff454b5e-6d46-4d7b-a984-1f5167a244e7",
   "metadata": {},
   "outputs": [
    {
     "data": {
      "text/plain": [
       "array([[1, 0, 0],\n",
       "       [2, 0, 0],\n",
       "       [3, 0, 0]])"
      ]
     },
     "execution_count": 37,
     "metadata": {},
     "output_type": "execute_result"
    }
   ],
   "source": [
    "# https://numpy.org/doc/stable/reference/generated/numpy.transpose.html\n",
    "# Returns an array with axes transposed.\n",
    "\n",
    "narr.transpose()"
   ]
  },
  {
   "cell_type": "code",
   "execution_count": 38,
   "id": "ce399239-b55a-49d2-9293-1b43ec9f646f",
   "metadata": {},
   "outputs": [
    {
     "data": {
      "text/plain": [
       "array([[1., 2., 3.],\n",
       "       [0., 0., 0.],\n",
       "       [0., 0., 0.]], dtype=float32)"
      ]
     },
     "execution_count": 38,
     "metadata": {},
     "output_type": "execute_result"
    }
   ],
   "source": [
    "narr.astype('f')"
   ]
  },
  {
   "cell_type": "code",
   "execution_count": 39,
   "id": "a7ef0870-a13a-4f25-9ad5-7ca87f46c79f",
   "metadata": {},
   "outputs": [
    {
     "data": {
      "text/plain": [
       "6"
      ]
     },
     "execution_count": 39,
     "metadata": {},
     "output_type": "execute_result"
    }
   ],
   "source": [
    "narr.sum()"
   ]
  },
  {
   "cell_type": "code",
   "execution_count": 40,
   "id": "a44a7be1-4e6d-4cd6-8ef8-df263a641f31",
   "metadata": {},
   "outputs": [
    {
     "data": {
      "text/plain": [
       "3"
      ]
     },
     "execution_count": 40,
     "metadata": {},
     "output_type": "execute_result"
    }
   ],
   "source": [
    "narr.max()"
   ]
  },
  {
   "cell_type": "code",
   "execution_count": 41,
   "id": "64c52bbd-ebd2-40fd-950e-24f2bece5d57",
   "metadata": {},
   "outputs": [
    {
     "data": {
      "text/plain": [
       "0"
      ]
     },
     "execution_count": 41,
     "metadata": {},
     "output_type": "execute_result"
    }
   ],
   "source": [
    "narr.min()"
   ]
  },
  {
   "cell_type": "code",
   "execution_count": 42,
   "id": "c39ef322-b031-49fd-88bb-c302da746dfa",
   "metadata": {},
   "outputs": [
    {
     "data": {
      "text/plain": [
       "2"
      ]
     },
     "execution_count": 42,
     "metadata": {},
     "output_type": "execute_result"
    }
   ],
   "source": [
    "# Returns the index of the largest element\n",
    "narr.argmax()"
   ]
  },
  {
   "cell_type": "code",
   "execution_count": 43,
   "id": "22f37747-0f93-4a9f-a932-fc17aaf678b0",
   "metadata": {},
   "outputs": [
    {
     "data": {
      "text/plain": [
       "3"
      ]
     },
     "execution_count": 43,
     "metadata": {},
     "output_type": "execute_result"
    }
   ],
   "source": [
    "# Returns the index of the smallest element\n",
    "narr.argmin()"
   ]
  },
  {
   "cell_type": "code",
   "execution_count": 44,
   "id": "4be42aad-6397-4315-a41b-91f33f8255ad",
   "metadata": {},
   "outputs": [
    {
     "data": {
      "text/plain": [
       "0.6666666666666666"
      ]
     },
     "execution_count": 44,
     "metadata": {},
     "output_type": "execute_result"
    }
   ],
   "source": [
    "narr.mean()"
   ]
  },
  {
   "cell_type": "code",
   "execution_count": 45,
   "id": "8f3b1e19-c91a-48b3-9b9d-ba45b85007b2",
   "metadata": {},
   "outputs": [
    {
     "data": {
      "text/plain": [
       "1.0540925533894598"
      ]
     },
     "execution_count": 45,
     "metadata": {},
     "output_type": "execute_result"
    }
   ],
   "source": [
    "narr.std()"
   ]
  },
  {
   "cell_type": "code",
   "execution_count": 46,
   "id": "2653874a-2359-4be5-b74d-99a5d8b1fb59",
   "metadata": {},
   "outputs": [
    {
     "data": {
      "text/plain": [
       "array([ 0,  1,  2,  3,  4,  5,  6,  7,  8,  9, 10, 11, 12, 13, 14])"
      ]
     },
     "execution_count": 46,
     "metadata": {},
     "output_type": "execute_result"
    }
   ],
   "source": [
    "mr = numpy.arange(15)\n",
    "mr"
   ]
  },
  {
   "cell_type": "code",
   "execution_count": 47,
   "id": "18b7381b-2008-4a12-980e-c6e23e71638c",
   "metadata": {},
   "outputs": [
    {
     "data": {
      "text/plain": [
       "array([  0,   1,   4,   9,  16,  25,  36,  49,  64,  81, 100, 121, 144,\n",
       "       169, 196])"
      ]
     },
     "execution_count": 47,
     "metadata": {},
     "output_type": "execute_result"
    }
   ],
   "source": [
    "mr = numpy.arange(15) ** 2\n",
    "mr"
   ]
  },
  {
   "cell_type": "code",
   "execution_count": 48,
   "id": "ae5e4397-f378-49e3-b833-e0e97ebdb3b7",
   "metadata": {},
   "outputs": [
    {
     "data": {
      "text/plain": [
       "array([ 81, 121, 169])"
      ]
     },
     "execution_count": 48,
     "metadata": {},
     "output_type": "execute_result"
    }
   ],
   "source": [
    "# [0, 1, 4, 9, 16, 25, 36, 49, 64, 81, 100, 121, 144, 169, 196]\n",
    "\n",
    "mr[-6:14:2]\n",
    "# array([81, 121, 169])"
   ]
  },
  {
   "cell_type": "code",
   "execution_count": 49,
   "id": "766d7604-bbf8-4c99-97d1-cbfafc225d4d",
   "metadata": {},
   "outputs": [
    {
     "data": {
      "text/plain": [
       "array([], dtype=int32)"
      ]
     },
     "execution_count": 49,
     "metadata": {},
     "output_type": "execute_result"
    }
   ],
   "source": [
    "# [0, 1, 4, 9, 16, 25, 36, 49, 64, 81, 100, 121, 144, 169, 196]\n",
    "\n",
    "mr[5:-1:-1]\n",
    "# array([])"
   ]
  },
  {
   "cell_type": "code",
   "execution_count": 50,
   "id": "5007393f-c381-407b-9103-3cf0c7b365f9",
   "metadata": {},
   "outputs": [
    {
     "data": {
      "text/plain": [
       "4"
      ]
     },
     "execution_count": 50,
     "metadata": {},
     "output_type": "execute_result"
    }
   ],
   "source": [
    "mr[2]"
   ]
  },
  {
   "cell_type": "code",
   "execution_count": 51,
   "id": "02706ab7-dde4-4c7a-b455-f35fe1543f8a",
   "metadata": {},
   "outputs": [
    {
     "data": {
      "text/plain": [
       "array([ 1,  4,  9, 16])"
      ]
     },
     "execution_count": 51,
     "metadata": {},
     "output_type": "execute_result"
    }
   ],
   "source": [
    "mr[1:5]"
   ]
  },
  {
   "cell_type": "code",
   "execution_count": 52,
   "id": "d23498df-e5ee-456a-8e81-433e16ddc466",
   "metadata": {},
   "outputs": [
    {
     "data": {
      "text/plain": [
       "array([ 1,  4,  9, 16])"
      ]
     },
     "execution_count": 52,
     "metadata": {},
     "output_type": "execute_result"
    }
   ],
   "source": [
    "mr[1:5:1]"
   ]
  },
  {
   "cell_type": "code",
   "execution_count": 53,
   "id": "099f2fe2-494b-4fa7-b000-4c483b615d76",
   "metadata": {},
   "outputs": [
    {
     "data": {
      "text/plain": [
       "array([16,  9,  4,  1])"
      ]
     },
     "execution_count": 53,
     "metadata": {},
     "output_type": "execute_result"
    }
   ],
   "source": [
    "mr[4:0:-1]"
   ]
  },
  {
   "cell_type": "code",
   "execution_count": 54,
   "id": "ce426fc2-8872-46e0-823f-901c2b4b72e5",
   "metadata": {},
   "outputs": [
    {
     "data": {
      "text/plain": [
       "array([ 0,  1,  4,  9, 16])"
      ]
     },
     "execution_count": 54,
     "metadata": {},
     "output_type": "execute_result"
    }
   ],
   "source": [
    "mr[:5]"
   ]
  },
  {
   "cell_type": "code",
   "execution_count": 55,
   "id": "4e995b98-450f-4ffe-9e77-d54ab43d1244",
   "metadata": {},
   "outputs": [
    {
     "data": {
      "text/plain": [
       "array([169, 196])"
      ]
     },
     "execution_count": 55,
     "metadata": {},
     "output_type": "execute_result"
    }
   ],
   "source": [
    "mr[-2:]"
   ]
  },
  {
   "cell_type": "code",
   "execution_count": 56,
   "id": "a3a06a36-b5a9-4ade-8aeb-a709d81081ef",
   "metadata": {},
   "outputs": [
    {
     "data": {
      "text/plain": [
       "array([ 25,  64, 121])"
      ]
     },
     "execution_count": 56,
     "metadata": {},
     "output_type": "execute_result"
    }
   ],
   "source": [
    "# [0, 1, 4, 9, 16, 25, 36, 49, 64, 81, 100, 121, 144, 169, 196]\n",
    "\n",
    "mr[5:12:3]\n",
    "# array([25, 64, 121])"
   ]
  },
  {
   "cell_type": "code",
   "execution_count": 57,
   "id": "43fc9f83-6887-4e0d-a4d1-82ceeadaeaf7",
   "metadata": {},
   "outputs": [
    {
     "data": {
      "text/plain": [
       "array([100, 144, 196])"
      ]
     },
     "execution_count": 57,
     "metadata": {},
     "output_type": "execute_result"
    }
   ],
   "source": [
    "# [0, 1, 4, 9, 16, 25, 36, 49, 64, 81, 100, 121, 144, 169, 196]\n",
    "\n",
    "mr[10::2]\n",
    "#  100 --> END (On The Right)\n",
    "# array([100, 144, 196])"
   ]
  },
  {
   "cell_type": "code",
   "execution_count": 58,
   "id": "2dced705-3d25-4df9-87b4-14ef1aebe461",
   "metadata": {},
   "outputs": [
    {
     "data": {
      "text/plain": [
       "array([100,  64,  36,  16,   4,   0])"
      ]
     },
     "execution_count": 58,
     "metadata": {},
     "output_type": "execute_result"
    }
   ],
   "source": [
    "# [0, 1, 4, 9, 16, 25, 36, 49, 64, 81, 100, 121, 144, 169, 196]\n",
    "\n",
    "mr[10::-2]\n",
    "#  100 --> END (On The Left)\n",
    "# array([100, 64, 36, 16, 4, 0])"
   ]
  },
  {
   "cell_type": "code",
   "execution_count": 59,
   "id": "2a9d1c60-c238-4c25-ac97-dc10b7ff3db9",
   "metadata": {},
   "outputs": [
    {
     "data": {
      "text/plain": [
       "array([25,  9,  1])"
      ]
     },
     "execution_count": 59,
     "metadata": {},
     "output_type": "execute_result"
    }
   ],
   "source": [
    "# [0, 1, 4, 9, 16, 25, 36, 49, 64, 81, 100, 121, 144, 169, 196]\n",
    "\n",
    "mr[-10::-2]\n",
    "#   25 --> END (On The Left)\n",
    "# array([25, 9, 1])"
   ]
  },
  {
   "cell_type": "code",
   "execution_count": 60,
   "id": "0f7531e3-6943-4fe1-b91b-c3dc63997500",
   "metadata": {},
   "outputs": [
    {
     "data": {
      "text/plain": [
       "array([], dtype=int32)"
      ]
     },
     "execution_count": 60,
     "metadata": {},
     "output_type": "execute_result"
    }
   ],
   "source": [
    "# [0, 1, 4, 9, 16, 25, 36, 49, 64, 81, 100, 121, 144, 169, 196]\n",
    "\n",
    "mr[-10:-2:-2]\n",
    "#   25 --> 169\n",
    "# array([])"
   ]
  },
  {
   "cell_type": "code",
   "execution_count": 61,
   "id": "e936a952-ced3-4741-8ad8-6a66f61c51b4",
   "metadata": {},
   "outputs": [
    {
     "data": {
      "text/plain": [
       "array([ 25,  49,  81, 121])"
      ]
     },
     "execution_count": 61,
     "metadata": {},
     "output_type": "execute_result"
    }
   ],
   "source": [
    "mr[-10:-2:2]\n",
    "# 25, 49, 81, 121"
   ]
  },
  {
   "cell_type": "code",
   "execution_count": 62,
   "id": "dbd2b215-1fd8-45f7-b9df-c7227029e498",
   "metadata": {},
   "outputs": [
    {
     "data": {
      "text/plain": [
       "array([[1, 2, 3],\n",
       "       [0, 0, 0],\n",
       "       [0, 0, 0]])"
      ]
     },
     "execution_count": 62,
     "metadata": {},
     "output_type": "execute_result"
    }
   ],
   "source": [
    "narr"
   ]
  },
  {
   "cell_type": "code",
   "execution_count": 63,
   "id": "1659d2c8-e0b4-4444-ab22-4f08e95fa339",
   "metadata": {},
   "outputs": [
    {
     "data": {
      "text/plain": [
       "array([[1, 2, 3],\n",
       "       [0, 0, 0],\n",
       "       [0, 0, 0]])"
      ]
     },
     "execution_count": 63,
     "metadata": {},
     "output_type": "execute_result"
    }
   ],
   "source": [
    "numpy.array([\n",
    "    [1, 2, 3],\n",
    "    [0, 0, 0],\n",
    "    [0, 0, 0]\n",
    "])"
   ]
  },
  {
   "cell_type": "code",
   "execution_count": 64,
   "id": "a1f07e64-18ab-4697-a793-6ff671bcbce4",
   "metadata": {},
   "outputs": [],
   "source": [
    "narr = numpy.array([\n",
    "    [10, 20, 30],\n",
    "    [40, 50, 60],\n",
    "    [70, 80, 90]\n",
    "])"
   ]
  },
  {
   "cell_type": "code",
   "execution_count": 65,
   "id": "68f43607-a4af-402e-ad01-417cf777a788",
   "metadata": {},
   "outputs": [
    {
     "data": {
      "text/plain": [
       "30"
      ]
     },
     "execution_count": 65,
     "metadata": {},
     "output_type": "execute_result"
    }
   ],
   "source": [
    "narr[0, 2]"
   ]
  },
  {
   "cell_type": "code",
   "execution_count": 66,
   "id": "761eb0ee-b395-4fb7-a15d-4231a4869b6a",
   "metadata": {},
   "outputs": [
    {
     "data": {
      "text/plain": [
       "array([30])"
      ]
     },
     "execution_count": 66,
     "metadata": {},
     "output_type": "execute_result"
    }
   ],
   "source": [
    "narr[0, 2:]"
   ]
  },
  {
   "cell_type": "code",
   "execution_count": 67,
   "id": "04747981-ed1c-4ef6-99bf-09828b492505",
   "metadata": {},
   "outputs": [
    {
     "data": {
      "text/plain": [
       "array([10, 20, 30])"
      ]
     },
     "execution_count": 67,
     "metadata": {},
     "output_type": "execute_result"
    }
   ],
   "source": [
    "narr[0]"
   ]
  },
  {
   "cell_type": "code",
   "execution_count": 68,
   "id": "da9b784c-2921-4c3a-b4f3-db478b31b337",
   "metadata": {},
   "outputs": [
    {
     "data": {
      "text/plain": [
       "array([10, 20, 30])"
      ]
     },
     "execution_count": 68,
     "metadata": {},
     "output_type": "execute_result"
    }
   ],
   "source": [
    "narr[0,  ]"
   ]
  },
  {
   "cell_type": "code",
   "execution_count": 69,
   "id": "1ca6a69a-0841-4608-b4cd-3d284c6c1767",
   "metadata": {},
   "outputs": [
    {
     "data": {
      "text/plain": [
       "array([10, 20, 30])"
      ]
     },
     "execution_count": 69,
     "metadata": {},
     "output_type": "execute_result"
    }
   ],
   "source": [
    "narr[0, :]"
   ]
  },
  {
   "cell_type": "code",
   "execution_count": 70,
   "id": "9ab82932-d74a-4b7b-b710-e65bdd1ff35e",
   "metadata": {},
   "outputs": [
    {
     "data": {
      "text/plain": [
       "array([[10, 20, 30],\n",
       "       [40, 50, 60],\n",
       "       [70, 80, 90]])"
      ]
     },
     "execution_count": 70,
     "metadata": {},
     "output_type": "execute_result"
    }
   ],
   "source": [
    "narr"
   ]
  },
  {
   "cell_type": "code",
   "execution_count": 71,
   "id": "f24857bc-15cd-402f-a1f6-a2b37efc3a4d",
   "metadata": {},
   "outputs": [
    {
     "data": {
      "text/plain": [
       "array([60, 90])"
      ]
     },
     "execution_count": 71,
     "metadata": {},
     "output_type": "execute_result"
    }
   ],
   "source": [
    "narr[1:, 2]"
   ]
  },
  {
   "cell_type": "code",
   "execution_count": 72,
   "id": "55c1f4f1-1691-4033-9612-d944d51a1cd3",
   "metadata": {},
   "outputs": [
    {
     "data": {
      "text/plain": [
       "array([[60],\n",
       "       [90]])"
      ]
     },
     "execution_count": 72,
     "metadata": {},
     "output_type": "execute_result"
    }
   ],
   "source": [
    "narr[1:, 2:]"
   ]
  },
  {
   "cell_type": "code",
   "execution_count": 73,
   "id": "86a50597-3c06-40f9-b16f-a1bba1f4bf59",
   "metadata": {},
   "outputs": [
    {
     "data": {
      "text/plain": [
       "array([[20, 30],\n",
       "       [50, 60]])"
      ]
     },
     "execution_count": 73,
     "metadata": {},
     "output_type": "execute_result"
    }
   ],
   "source": [
    "narr[:2, 1:]"
   ]
  },
  {
   "cell_type": "code",
   "execution_count": 74,
   "id": "dbf16649-ff80-4fd7-a9b2-af61a4e22526",
   "metadata": {},
   "outputs": [
    {
     "data": {
      "text/plain": [
       "array([[20, 30],\n",
       "       [50, 60]])"
      ]
     },
     "execution_count": 74,
     "metadata": {},
     "output_type": "execute_result"
    }
   ],
   "source": [
    "narr[0:2, 1:]"
   ]
  },
  {
   "cell_type": "code",
   "execution_count": 75,
   "id": "60bb370d-7dee-4be8-b502-4dde3e0e9c90",
   "metadata": {},
   "outputs": [
    {
     "data": {
      "text/plain": [
       "array([[20, 30],\n",
       "       [50, 60]])"
      ]
     },
     "execution_count": 75,
     "metadata": {},
     "output_type": "execute_result"
    }
   ],
   "source": [
    "narr[0:2, 1:3]"
   ]
  },
  {
   "cell_type": "code",
   "execution_count": 76,
   "id": "c14b4286-a3f3-4424-ac8f-c623ac47ef30",
   "metadata": {},
   "outputs": [
    {
     "data": {
      "text/plain": [
       "array([[20, 30],\n",
       "       [50, 60]])"
      ]
     },
     "execution_count": 76,
     "metadata": {},
     "output_type": "execute_result"
    }
   ],
   "source": [
    "# narr[rows  ,  columns]\n",
    "# Before comma     :  zero dimension       (columns) axis 0  --->  0:2\n",
    "# After the comma  :  the first dimension  (rows)    axis 1  --->  1:1000\n",
    "narr[0:2, 1:1000]"
   ]
  },
  {
   "cell_type": "code",
   "execution_count": 77,
   "id": "cd967e76-e3c7-4c2c-b400-eedcbfcaf4d7",
   "metadata": {},
   "outputs": [
    {
     "data": {
      "text/plain": [
       "array([[10, 20, 30],\n",
       "       [40, 50, 60],\n",
       "       [70, 80, 90]])"
      ]
     },
     "execution_count": 77,
     "metadata": {},
     "output_type": "execute_result"
    }
   ],
   "source": [
    "narr"
   ]
  },
  {
   "cell_type": "code",
   "execution_count": 78,
   "id": "8c9a3ac9-a015-4a3c-9ab3-dfff1a732a9b",
   "metadata": {},
   "outputs": [
    {
     "data": {
      "text/plain": [
       "array([30, 90])"
      ]
     },
     "execution_count": 78,
     "metadata": {},
     "output_type": "execute_result"
    }
   ],
   "source": [
    "narr[::2, -1]"
   ]
  },
  {
   "cell_type": "code",
   "execution_count": 79,
   "id": "a2842bfa-fcaa-44e7-84f5-e02dd41bca57",
   "metadata": {},
   "outputs": [
    {
     "data": {
      "text/plain": [
       "array([[30],\n",
       "       [90]])"
      ]
     },
     "execution_count": 79,
     "metadata": {},
     "output_type": "execute_result"
    }
   ],
   "source": [
    "narr[::2, -1:]"
   ]
  },
  {
   "cell_type": "code",
   "execution_count": 80,
   "id": "a44c8158-d51a-4950-924b-3caafc3aee41",
   "metadata": {},
   "outputs": [
    {
     "data": {
      "text/plain": [
       "array([90, 60, 30])"
      ]
     },
     "execution_count": 80,
     "metadata": {},
     "output_type": "execute_result"
    }
   ],
   "source": [
    "narr[::-1, 2]"
   ]
  },
  {
   "cell_type": "code",
   "execution_count": 81,
   "id": "4cc7ffd1-bd68-4336-9527-a58dbc1d36f0",
   "metadata": {},
   "outputs": [
    {
     "data": {
      "text/plain": [
       "array([[90],\n",
       "       [60],\n",
       "       [30]])"
      ]
     },
     "execution_count": 81,
     "metadata": {},
     "output_type": "execute_result"
    }
   ],
   "source": [
    "narr[::-1, 2:]"
   ]
  },
  {
   "cell_type": "code",
   "execution_count": 82,
   "id": "f219d9e2-6f2b-4666-bb5d-55f5199d7cf3",
   "metadata": {},
   "outputs": [
    {
     "data": {
      "text/plain": [
       "array([[10, 20, 30],\n",
       "       [40, 50, 60],\n",
       "       [70, 80, 90]])"
      ]
     },
     "execution_count": 82,
     "metadata": {},
     "output_type": "execute_result"
    }
   ],
   "source": [
    "narr"
   ]
  },
  {
   "cell_type": "code",
   "execution_count": 83,
   "id": "eae833c4-5163-458c-ae62-0c75afc68631",
   "metadata": {},
   "outputs": [
    {
     "data": {
      "text/plain": [
       "array([[50, 60],\n",
       "       [80, 90]])"
      ]
     },
     "execution_count": 83,
     "metadata": {},
     "output_type": "execute_result"
    }
   ],
   "source": [
    "narr[-2::, 1:3]"
   ]
  },
  {
   "cell_type": "code",
   "execution_count": 84,
   "id": "46545d97-3706-4693-8415-e412e910da5e",
   "metadata": {},
   "outputs": [
    {
     "data": {
      "text/plain": [
       "array([[50, 60],\n",
       "       [80, 90]])"
      ]
     },
     "execution_count": 84,
     "metadata": {},
     "output_type": "execute_result"
    }
   ],
   "source": [
    "narr[-2::1, 1:3]"
   ]
  },
  {
   "cell_type": "code",
   "execution_count": 85,
   "id": "c7ebb7c3-611d-401c-9bcb-96601929fdce",
   "metadata": {},
   "outputs": [
    {
     "data": {
      "text/plain": [
       "array([10, 20, 30, 40, 50, 60, 70, 80, 90])"
      ]
     },
     "execution_count": 85,
     "metadata": {},
     "output_type": "execute_result"
    }
   ],
   "source": [
    "narr[narr >= 0]"
   ]
  },
  {
   "cell_type": "code",
   "execution_count": 86,
   "id": "ee385268-b5fb-494e-85b3-bac75c086850",
   "metadata": {},
   "outputs": [
    {
     "data": {
      "text/plain": [
       "array([70, 80, 90])"
      ]
     },
     "execution_count": 86,
     "metadata": {},
     "output_type": "execute_result"
    }
   ],
   "source": [
    "narr[narr >= 70]"
   ]
  },
  {
   "cell_type": "code",
   "execution_count": 87,
   "id": "54f6f98a-78b8-42f3-9935-85e0981473c8",
   "metadata": {},
   "outputs": [
    {
     "data": {
      "text/plain": [
       "array([[ True,  True,  True],\n",
       "       [ True,  True,  True],\n",
       "       [ True,  True,  True]])"
      ]
     },
     "execution_count": 87,
     "metadata": {},
     "output_type": "execute_result"
    }
   ],
   "source": [
    "narr >= 2"
   ]
  },
  {
   "cell_type": "code",
   "execution_count": 88,
   "id": "46b112e0-7b94-4e42-aef0-f95fd93e6eac",
   "metadata": {},
   "outputs": [
    {
     "data": {
      "text/plain": [
       "array([[10, 20, 30],\n",
       "       [40, 50, 60],\n",
       "       [70, 80, 90]])"
      ]
     },
     "execution_count": 88,
     "metadata": {},
     "output_type": "execute_result"
    }
   ],
   "source": [
    "narr"
   ]
  },
  {
   "cell_type": "code",
   "execution_count": 89,
   "id": "f70eb9cf-af23-46be-981b-8e47d7a94d2a",
   "metadata": {},
   "outputs": [
    {
     "data": {
      "text/plain": [
       "array([70, 80, 90])"
      ]
     },
     "execution_count": 89,
     "metadata": {},
     "output_type": "execute_result"
    }
   ],
   "source": [
    "marr = narr[-1]\n",
    "marr"
   ]
  },
  {
   "cell_type": "code",
   "execution_count": 90,
   "id": "34a0fcbc-3cd5-4bd5-9352-b2670bbcfcb9",
   "metadata": {},
   "outputs": [
    {
     "data": {
      "text/plain": [
       "array([1, 1, 1])"
      ]
     },
     "execution_count": 90,
     "metadata": {},
     "output_type": "execute_result"
    }
   ],
   "source": [
    "marr[:] = 1\n",
    "marr"
   ]
  },
  {
   "cell_type": "code",
   "execution_count": 91,
   "id": "373205f3-98eb-43b0-bbda-777cfe2acfb1",
   "metadata": {},
   "outputs": [
    {
     "data": {
      "text/plain": [
       "array([2, 2, 1])"
      ]
     },
     "execution_count": 91,
     "metadata": {},
     "output_type": "execute_result"
    }
   ],
   "source": [
    "marr[:2] = 2\n",
    "marr"
   ]
  },
  {
   "cell_type": "code",
   "execution_count": 92,
   "id": "e1d34e0f-63b6-4571-875b-f94c36a90f55",
   "metadata": {},
   "outputs": [
    {
     "data": {
      "text/plain": [
       "array([[10, 20, 30],\n",
       "       [40, 50, 60],\n",
       "       [ 2,  2,  1]])"
      ]
     },
     "execution_count": 92,
     "metadata": {},
     "output_type": "execute_result"
    }
   ],
   "source": [
    "narr"
   ]
  },
  {
   "cell_type": "code",
   "execution_count": 93,
   "id": "82858b29-b402-4f9a-a26e-377b73ea18cd",
   "metadata": {},
   "outputs": [
    {
     "data": {
      "text/plain": [
       "array([[10, 20, 30],\n",
       "       [40, 50, 60],\n",
       "       [ 2,  2,  1]])"
      ]
     },
     "execution_count": 93,
     "metadata": {},
     "output_type": "execute_result"
    }
   ],
   "source": [
    "marr = narr.copy()\n",
    "marr"
   ]
  },
  {
   "cell_type": "code",
   "execution_count": 94,
   "id": "d56b646e-bf40-4738-bcb6-4428c0644395",
   "metadata": {},
   "outputs": [
    {
     "data": {
      "text/plain": [
       "array([[0, 0, 0],\n",
       "       [0, 0, 0],\n",
       "       [0, 0, 0]])"
      ]
     },
     "execution_count": 94,
     "metadata": {},
     "output_type": "execute_result"
    }
   ],
   "source": [
    "marr[:] = 0\n",
    "marr"
   ]
  },
  {
   "cell_type": "code",
   "execution_count": 95,
   "id": "e7a0fa84-de09-4673-8bd0-86c44d933366",
   "metadata": {},
   "outputs": [
    {
     "data": {
      "text/plain": [
       "array([[10, 20, 30],\n",
       "       [40, 50, 60],\n",
       "       [ 2,  2,  1]])"
      ]
     },
     "execution_count": 95,
     "metadata": {},
     "output_type": "execute_result"
    }
   ],
   "source": [
    "narr"
   ]
  },
  {
   "cell_type": "code",
   "execution_count": 96,
   "id": "39ef5140-5b3b-42b9-9404-be00711ca892",
   "metadata": {},
   "outputs": [
    {
     "data": {
      "text/plain": [
       "array([[9, 4, 3],\n",
       "       [2, 5, 9],\n",
       "       [3, 5, 5],\n",
       "       [5, 7, 1]])"
      ]
     },
     "execution_count": 96,
     "metadata": {},
     "output_type": "execute_result"
    }
   ],
   "source": [
    "tarr = numpy.random.randint(0, 10, (4, 3))\n",
    "tarr"
   ]
  },
  {
   "cell_type": "code",
   "execution_count": 97,
   "id": "5d7656f6-3b61-4642-83f7-101fab5c7614",
   "metadata": {},
   "outputs": [
    {
     "data": {
      "text/plain": [
       "1"
      ]
     },
     "execution_count": 97,
     "metadata": {},
     "output_type": "execute_result"
    }
   ],
   "source": [
    "tarr[3, 2]"
   ]
  },
  {
   "cell_type": "code",
   "execution_count": 98,
   "id": "65aaf3d7-3fc5-4d38-8b65-d45873bdf503",
   "metadata": {},
   "outputs": [
    {
     "data": {
      "text/plain": [
       "array([1])"
      ]
     },
     "execution_count": 98,
     "metadata": {},
     "output_type": "execute_result"
    }
   ],
   "source": [
    "tarr[3:, 2]"
   ]
  },
  {
   "cell_type": "code",
   "execution_count": 99,
   "id": "d390c7d2-f2c1-44b6-a76e-e3758e83b925",
   "metadata": {},
   "outputs": [
    {
     "data": {
      "text/plain": [
       "array([1])"
      ]
     },
     "execution_count": 99,
     "metadata": {},
     "output_type": "execute_result"
    }
   ],
   "source": [
    "tarr[3, 2:]"
   ]
  },
  {
   "cell_type": "code",
   "execution_count": 100,
   "id": "53dbc828-e728-4fed-a7b1-8cd81223594d",
   "metadata": {},
   "outputs": [
    {
     "data": {
      "text/plain": [
       "array([[1]])"
      ]
     },
     "execution_count": 100,
     "metadata": {},
     "output_type": "execute_result"
    }
   ],
   "source": [
    "tarr[3:, 2:]"
   ]
  },
  {
   "cell_type": "code",
   "execution_count": 101,
   "id": "d2b36510-b7c1-4c48-b9dd-293f37f2d100",
   "metadata": {},
   "outputs": [
    {
     "data": {
      "text/plain": [
       "array([[1]])"
      ]
     },
     "execution_count": 101,
     "metadata": {},
     "output_type": "execute_result"
    }
   ],
   "source": [
    "tarr[3::3, 4:1:-2]"
   ]
  },
  {
   "cell_type": "code",
   "execution_count": 102,
   "id": "571babc8-4f16-45fc-8a52-029d66f5993b",
   "metadata": {},
   "outputs": [
    {
     "data": {
      "text/plain": [
       "array([[9, 4, 3],\n",
       "       [2, 5, 9],\n",
       "       [3, 5, 5],\n",
       "       [5, 7, 1]])"
      ]
     },
     "execution_count": 102,
     "metadata": {},
     "output_type": "execute_result"
    }
   ],
   "source": [
    "tarr"
   ]
  },
  {
   "cell_type": "code",
   "execution_count": 103,
   "id": "2c1e2b81-684e-4b5c-8a15-6754f1247095",
   "metadata": {},
   "outputs": [
    {
     "name": "stdout",
     "output_type": "stream",
     "text": [
      "[81 16  9]\n",
      "[ 4 25 81]\n",
      "[ 9 25 25]\n",
      "[25 49  1]\n"
     ]
    }
   ],
   "source": [
    "for row in tarr:\n",
    "    # print(row)\n",
    "    row = row **2\n",
    "    print(row)"
   ]
  },
  {
   "cell_type": "code",
   "execution_count": 104,
   "id": "cbaa9145-a9ae-4bc5-ba4a-1e2edae892d6",
   "metadata": {},
   "outputs": [
    {
     "name": "stdout",
     "output_type": "stream",
     "text": [
      "index(0) is  [9 4 3]\n",
      "index(1) is  [2 5 9]\n",
      "index(2) is  [3 5 5]\n",
      "index(3) is  [5 7 1]\n"
     ]
    }
   ],
   "source": [
    "for index, row in enumerate(tarr):\n",
    "    # print(f'index({index}) is {row}')\n",
    "    # print('index(' + str(index) + ') is ' + str(row))\n",
    "    print('index(' + str(index) + ') is ', row)"
   ]
  },
  {
   "cell_type": "code",
   "execution_count": 105,
   "id": "769dbf4d-ea8f-4ff4-b116-91ab24ebfa21",
   "metadata": {},
   "outputs": [
    {
     "data": {
      "text/plain": [
       "array([[10, 20, 30],\n",
       "       [40, 50, 60],\n",
       "       [ 2,  2,  1]])"
      ]
     },
     "execution_count": 105,
     "metadata": {},
     "output_type": "execute_result"
    }
   ],
   "source": [
    "narr"
   ]
  },
  {
   "cell_type": "code",
   "execution_count": 106,
   "id": "a1f57fbf-0601-4fee-8981-4bbbda80323f",
   "metadata": {},
   "outputs": [
    {
     "data": {
      "text/plain": [
       "array([[0, 0, 0],\n",
       "       [0, 0, 0],\n",
       "       [0, 0, 0]])"
      ]
     },
     "execution_count": 106,
     "metadata": {},
     "output_type": "execute_result"
    }
   ],
   "source": [
    "marr"
   ]
  },
  {
   "cell_type": "code",
   "execution_count": 107,
   "id": "e5945816-7c74-46d8-a574-9af171bf484e",
   "metadata": {},
   "outputs": [
    {
     "data": {
      "text/plain": [
       "[(array([10, 20, 30]), array([0, 0, 0])),\n",
       " (array([40, 50, 60]), array([0, 0, 0])),\n",
       " (array([2, 2, 1]), array([0, 0, 0]))]"
      ]
     },
     "execution_count": 107,
     "metadata": {},
     "output_type": "execute_result"
    }
   ],
   "source": [
    "list(zip(narr, marr))"
   ]
  },
  {
   "cell_type": "code",
   "execution_count": 108,
   "id": "05ac9468-f955-4d21-8ee7-a3307bd10a89",
   "metadata": {},
   "outputs": [
    {
     "data": {
      "text/plain": [
       "array([[10, 20, 30,  0,  0,  0],\n",
       "       [40, 50, 60,  0,  0,  0],\n",
       "       [ 2,  2,  1,  0,  0,  0]])"
      ]
     },
     "execution_count": 108,
     "metadata": {},
     "output_type": "execute_result"
    }
   ],
   "source": [
    "numpy.hstack((narr, marr))"
   ]
  },
  {
   "cell_type": "code",
   "execution_count": 109,
   "id": "6af226be-638b-4eb3-9872-8c6256764a6b",
   "metadata": {},
   "outputs": [
    {
     "data": {
      "text/plain": [
       "array([1, 4, 2, 9, 8, 6, 3])"
      ]
     },
     "execution_count": 109,
     "metadata": {},
     "output_type": "execute_result"
    }
   ],
   "source": [
    "arr = [1, 4, 2, 9, 8, 6, 3]\n",
    "arr = numpy.array(arr)\n",
    "arr"
   ]
  },
  {
   "cell_type": "code",
   "execution_count": 110,
   "id": "9952a7f5-6f07-424d-9fff-7150b3fff196",
   "metadata": {},
   "outputs": [
    {
     "data": {
      "text/plain": [
       "3"
      ]
     },
     "execution_count": 110,
     "metadata": {},
     "output_type": "execute_result"
    }
   ],
   "source": [
    "len(arr) // 2"
   ]
  },
  {
   "cell_type": "code",
   "execution_count": 111,
   "id": "8b7da67f-b1ca-4a7d-ba4a-bab415df1fda",
   "metadata": {},
   "outputs": [
    {
     "data": {
      "text/plain": [
       "9"
      ]
     },
     "execution_count": 111,
     "metadata": {},
     "output_type": "execute_result"
    }
   ],
   "source": [
    "middle = arr[len(arr) // 2]\n",
    "middle"
   ]
  },
  {
   "cell_type": "code",
   "execution_count": 112,
   "id": "90a071fe-7d6f-41fc-9846-d6841794e6e4",
   "metadata": {},
   "outputs": [
    {
     "data": {
      "text/plain": [
       "[1, 4, 2, 8, 6, 3]"
      ]
     },
     "execution_count": 112,
     "metadata": {},
     "output_type": "execute_result"
    }
   ],
   "source": [
    "s = smaller_than_the_middle = [x for x in arr if x < middle]\n",
    "smaller_than_the_middle"
   ]
  },
  {
   "cell_type": "code",
   "execution_count": 113,
   "id": "c54a8de1-c310-40bb-8278-151396096ddf",
   "metadata": {},
   "outputs": [
    {
     "data": {
      "text/plain": [
       "[9]"
      ]
     },
     "execution_count": 113,
     "metadata": {},
     "output_type": "execute_result"
    }
   ],
   "source": [
    "e = equal_than_the_middle = [x for x in arr if x == middle]\n",
    "equal_than_the_middle"
   ]
  },
  {
   "cell_type": "code",
   "execution_count": 114,
   "id": "8fde09cb-9212-48c7-b1b2-d85bb374b329",
   "metadata": {},
   "outputs": [
    {
     "data": {
      "text/plain": [
       "[]"
      ]
     },
     "execution_count": 114,
     "metadata": {},
     "output_type": "execute_result"
    }
   ],
   "source": [
    "b = bigger_than_the_middle = [x for x in arr if x > middle]\n",
    "bigger_than_the_middle"
   ]
  },
  {
   "cell_type": "code",
   "execution_count": 115,
   "id": "bf894cee-9b75-49f4-a962-e5281a7a5ad0",
   "metadata": {},
   "outputs": [
    {
     "data": {
      "text/plain": [
       "[1, 4, 2, 8, 6, 3, 9]"
      ]
     },
     "execution_count": 115,
     "metadata": {},
     "output_type": "execute_result"
    }
   ],
   "source": [
    "s + b + e"
   ]
  },
  {
   "cell_type": "code",
   "execution_count": 116,
   "id": "1c5ade40-1bc6-4195-9e45-70528a1895cb",
   "metadata": {},
   "outputs": [
    {
     "data": {
      "text/plain": [
       "[1, 4, 2, 8, 6, 3, 9]"
      ]
     },
     "execution_count": 116,
     "metadata": {},
     "output_type": "execute_result"
    }
   ],
   "source": [
    "[1, 4, 2, 8, 6, 3] + [9] + []"
   ]
  },
  {
   "cell_type": "code",
   "execution_count": 117,
   "id": "d267d674-8727-4909-9cc9-62b30f9aca25",
   "metadata": {},
   "outputs": [],
   "source": [
    "# Data Structures\n",
    "# Recursive programming\n",
    "\n",
    "# Algorithm Design\n",
    "\n",
    "# Recursive Functions\n",
    "def quicksort(_array_):\n",
    "    if len(_array_) <= 1:\n",
    "        return _array_\n",
    "    \n",
    "    _array_ = numpy.array(_array_)\n",
    "    middle = _array_[len(_array_) // 2]\n",
    "    print('middle:', middle)\n",
    "    # s --> smaller_than_the_middle\n",
    "    s = [x for x in _array_ if x < middle]\n",
    "    print('s:', s)\n",
    "    # e --> equal_than_the_middle\n",
    "    e = [x for x in _array_ if x == middle]\n",
    "    print('e:', e)\n",
    "    # b --> bigger_than_the_middle\n",
    "    b = [x for x in _array_ if x > middle]\n",
    "    print('b:', b)\n",
    "    print(s, e, b)\n",
    "    print()\n",
    "\n",
    "    return quicksort(s) + e + quicksort(b)"
   ]
  },
  {
   "cell_type": "code",
   "execution_count": 118,
   "id": "56b443bd-befd-40a9-99ba-1bdb8ea90ab9",
   "metadata": {},
   "outputs": [
    {
     "name": "stdout",
     "output_type": "stream",
     "text": [
      "middle: 1\n",
      "s: []\n",
      "e: [1]\n",
      "b: [3, 6, 4, 3, 9, 4]\n",
      "[] [1] [3, 6, 4, 3, 9, 4]\n",
      "\n",
      "middle: 3\n",
      "s: []\n",
      "e: [3, 3]\n",
      "b: [6, 4, 9, 4]\n",
      "[] [3, 3] [6, 4, 9, 4]\n",
      "\n",
      "middle: 9\n",
      "s: [6, 4, 4]\n",
      "e: [9]\n",
      "b: []\n",
      "[6, 4, 4] [9] []\n",
      "\n",
      "middle: 4\n",
      "s: []\n",
      "e: [4, 4]\n",
      "b: [6]\n",
      "[] [4, 4] [6]\n",
      "\n"
     ]
    },
    {
     "data": {
      "text/plain": [
       "[1, 3, 3, 4, 4, 6, 9]"
      ]
     },
     "execution_count": 118,
     "metadata": {},
     "output_type": "execute_result"
    }
   ],
   "source": [
    "pylist = [3, 6, 4 ,1, 3, 9, 4]\n",
    "quicksort(pylist)"
   ]
  }
 ],
 "metadata": {
  "kernelspec": {
   "display_name": "Python 3 (ipykernel)",
   "language": "python",
   "name": "python3"
  },
  "language_info": {
   "codemirror_mode": {
    "name": "ipython",
    "version": 3
   },
   "file_extension": ".py",
   "mimetype": "text/x-python",
   "name": "python",
   "nbconvert_exporter": "python",
   "pygments_lexer": "ipython3",
   "version": "3.12.1"
  }
 },
 "nbformat": 4,
 "nbformat_minor": 5
}
