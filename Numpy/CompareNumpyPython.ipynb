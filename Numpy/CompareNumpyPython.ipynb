{
 "cells": [
  {
   "cell_type": "markdown",
   "id": "0fe45594-b90c-49b3-8574-a2fd58501c8b",
   "metadata": {},
   "source": [
    "# Comparison of NumPy arrays and Python lists"
   ]
  },
  {
   "cell_type": "code",
   "execution_count": 1,
   "id": "4db33dc0-d0fb-4e14-8d6f-3d617a559ac7",
   "metadata": {},
   "outputs": [],
   "source": [
    "import numpy as np\n",
    "import time"
   ]
  },
  {
   "cell_type": "code",
   "execution_count": 2,
   "id": "ea481c4e-f73e-45fd-b2c3-296b19c5f179",
   "metadata": {},
   "outputs": [
    {
     "data": {
      "text/plain": [
       "1719410030.0224087"
      ]
     },
     "execution_count": 2,
     "metadata": {},
     "output_type": "execute_result"
    }
   ],
   "source": [
    "# https://docs.python.org/3/library/time.html\n",
    "time.time()"
   ]
  },
  {
   "cell_type": "code",
   "execution_count": 3,
   "id": "8677bc3d-7297-4b21-a71f-cdd8ab6d5d74",
   "metadata": {},
   "outputs": [
    {
     "data": {
      "text/plain": [
       "1719410030.0750751"
      ]
     },
     "execution_count": 3,
     "metadata": {},
     "output_type": "execute_result"
    }
   ],
   "source": [
    "time.time()"
   ]
  },
  {
   "cell_type": "code",
   "execution_count": 4,
   "id": "f3e17545-ea01-454e-a461-994671673a34",
   "metadata": {},
   "outputs": [],
   "source": [
    "def python_version():\n",
    "    t1 = time.time()\n",
    "    X = range(100000000)\n",
    "    Y = range(100000000)\n",
    "    Z = []\n",
    "    for i in range(100000000):\n",
    "        Z.append(X[i] + Y[i])\n",
    "    t2 = time.time()\n",
    "    return t2 - t1"
   ]
  },
  {
   "cell_type": "code",
   "execution_count": 5,
   "id": "07026ca7-b36a-4514-885a-d4a93a5e5932",
   "metadata": {},
   "outputs": [
    {
     "data": {
      "text/plain": [
       "42.68700361251831"
      ]
     },
     "execution_count": 5,
     "metadata": {},
     "output_type": "execute_result"
    }
   ],
   "source": [
    "python_version()"
   ]
  },
  {
   "cell_type": "code",
   "execution_count": 6,
   "id": "65fbee8a-4d09-4c2e-9d52-2f189748d14b",
   "metadata": {},
   "outputs": [],
   "source": [
    "def numpy_version():\n",
    "    t1 = time.time()\n",
    "    X = np.arange(100000000)\n",
    "    Y = np.arange(100000000)\n",
    "    Z = X + Y\n",
    "    t2 = time.time()\n",
    "    return t2 - t1"
   ]
  },
  {
   "cell_type": "code",
   "execution_count": 7,
   "id": "d8d69b5e-d8c3-4c1e-8d34-18b3cdc09da0",
   "metadata": {},
   "outputs": [
    {
     "data": {
      "text/plain": [
       "0.6973168849945068"
      ]
     },
     "execution_count": 7,
     "metadata": {},
     "output_type": "execute_result"
    }
   ],
   "source": [
    "numpy_version()"
   ]
  },
  {
   "cell_type": "code",
   "execution_count": 8,
   "id": "e3a17c7e-5a91-49c6-918f-5572752665af",
   "metadata": {},
   "outputs": [],
   "source": [
    "# BLAS and LAPACK\n",
    "# https://numpy.org/devdocs/building/blas_lapack.html\n",
    "\n",
    "# SIMD ---> Single Instruction, Multiple Data\n",
    "# CPU/SIMD optimizations\n",
    "# https://numpy.org/doc/stable/reference/simd/index.html"
   ]
  }
 ],
 "metadata": {
  "kernelspec": {
   "display_name": "Python 3 (ipykernel)",
   "language": "python",
   "name": "python3"
  },
  "language_info": {
   "codemirror_mode": {
    "name": "ipython",
    "version": 3
   },
   "file_extension": ".py",
   "mimetype": "text/x-python",
   "name": "python",
   "nbconvert_exporter": "python",
   "pygments_lexer": "ipython3",
   "version": "3.12.1"
  }
 },
 "nbformat": 4,
 "nbformat_minor": 5
}
