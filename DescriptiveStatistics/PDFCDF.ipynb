{
 "cells": [
  {
   "cell_type": "code",
   "execution_count": 1,
   "id": "7ae5c0af-1b53-43a1-bf54-88c5d9e93fd3",
   "metadata": {},
   "outputs": [],
   "source": [
    "from scipy import stats"
   ]
  },
  {
   "cell_type": "code",
   "execution_count": 2,
   "id": "68c2bd84-eda1-4ea7-85c0-53630e9c2a0e",
   "metadata": {},
   "outputs": [
    {
     "name": "stdout",
     "output_type": "stream",
     "text": [
      "<scipy.stats._distn_infrastructure.rv_discrete_frozen object at 0x0000015C3D110080>\n"
     ]
    }
   ],
   "source": [
    "data = stats.binom(5000, 0.2)\n",
    "print(data)"
   ]
  },
  {
   "cell_type": "code",
   "execution_count": 3,
   "id": "889dabd7-7236-4ed7-b37a-751f619ad807",
   "metadata": {},
   "outputs": [
    {
     "data": {
      "text/plain": [
       "0.014103505478012498"
      ]
     },
     "execution_count": 3,
     "metadata": {},
     "output_type": "execute_result"
    }
   ],
   "source": [
    "# pmf: probability mass function (for DISCRETE DISTRIBUTIONS)\n",
    "data.pmf(1000)"
   ]
  },
  {
   "cell_type": "code",
   "execution_count": 4,
   "id": "ef650211-d7cb-4e85-b2de-188c2ecc88ab",
   "metadata": {},
   "outputs": [
    {
     "data": {
      "text/plain": [
       "8.418098926059112e-64"
      ]
     },
     "execution_count": 4,
     "metadata": {},
     "output_type": "execute_result"
    }
   ],
   "source": [
    "data.pmf(1500)"
   ]
  },
  {
   "cell_type": "code",
   "execution_count": 5,
   "id": "2d8a85f7-30c8-4685-9505-e5673f2bcb07",
   "metadata": {},
   "outputs": [
    {
     "name": "stdout",
     "output_type": "stream",
     "text": [
      "0.9902454274113206\n"
     ]
    }
   ],
   "source": [
    "c = 0\n",
    "for i in range(0, 1067):\n",
    "    c += data.pmf(i)\n",
    "print(c)"
   ]
  },
  {
   "cell_type": "code",
   "execution_count": 6,
   "id": "8db725bf-7084-43c2-9ceb-790674e0956c",
   "metadata": {},
   "outputs": [
    {
     "data": {
      "text/plain": [
       "0.9902454274113204"
      ]
     },
     "execution_count": 6,
     "metadata": {},
     "output_type": "execute_result"
    }
   ],
   "source": [
    "# cdf: correlative distribution function (for DISCRETE & CONTINUOUS DISTRIBUTIONS)\n",
    "data.cdf(1066)"
   ]
  },
  {
   "cell_type": "code",
   "execution_count": 7,
   "id": "ce0b27dc-1ade-4f3d-9368-d8ef18637a7e",
   "metadata": {},
   "outputs": [],
   "source": [
    "data = stats.poisson(160)"
   ]
  },
  {
   "cell_type": "code",
   "execution_count": 8,
   "id": "9e16774a-3a51-4fa4-9bc8-e376fe4a20cf",
   "metadata": {},
   "outputs": [
    {
     "data": {
      "text/plain": [
       "0.00027541702741491487"
      ]
     },
     "execution_count": 8,
     "metadata": {},
     "output_type": "execute_result"
    }
   ],
   "source": [
    "data.pmf(200)"
   ]
  },
  {
   "cell_type": "code",
   "execution_count": 9,
   "id": "425132d3-33f3-4320-88a3-8c2815eea72d",
   "metadata": {},
   "outputs": [
    {
     "data": {
      "text/plain": [
       "0.9990057242993592"
      ]
     },
     "execution_count": 9,
     "metadata": {},
     "output_type": "execute_result"
    }
   ],
   "source": [
    "data.cdf(200)"
   ]
  },
  {
   "cell_type": "code",
   "execution_count": 10,
   "id": "cba152b8-a2ff-4cac-9d97-855c2d5326dc",
   "metadata": {},
   "outputs": [
    {
     "data": {
      "text/plain": [
       "0.000994275700640812"
      ]
     },
     "execution_count": 10,
     "metadata": {},
     "output_type": "execute_result"
    }
   ],
   "source": [
    "1 - data.cdf(200)"
   ]
  },
  {
   "cell_type": "code",
   "execution_count": 11,
   "id": "37d39741-3e34-459d-9f2b-64dd8df3533b",
   "metadata": {},
   "outputs": [
    {
     "data": {
      "text/plain": [
       "1.0"
      ]
     },
     "execution_count": 11,
     "metadata": {},
     "output_type": "execute_result"
    }
   ],
   "source": [
    "data.cdf(200) + (1 - data.cdf(200))"
   ]
  },
  {
   "cell_type": "code",
   "execution_count": 12,
   "id": "9aa4a8b6-40d0-4a0f-becc-70919931c505",
   "metadata": {},
   "outputs": [],
   "source": [
    "data = stats.norm(2, 1)"
   ]
  },
  {
   "cell_type": "code",
   "execution_count": 13,
   "id": "b47a06d3-4ca3-474c-aa24-625e3a26717b",
   "metadata": {},
   "outputs": [
    {
     "data": {
      "text/plain": [
       "0.3989422804014327"
      ]
     },
     "execution_count": 13,
     "metadata": {},
     "output_type": "execute_result"
    }
   ],
   "source": [
    "# pdf: probability distribution function (for CONTINUOUS DISTRIBUTIONS)\n",
    "data.pdf(2)"
   ]
  },
  {
   "cell_type": "code",
   "execution_count": 14,
   "id": "3830cabc-a4ee-43d5-af36-a7305668f865",
   "metadata": {},
   "outputs": [
    {
     "data": {
      "text/plain": [
       "0.5"
      ]
     },
     "execution_count": 14,
     "metadata": {},
     "output_type": "execute_result"
    }
   ],
   "source": [
    "# cdf: correlative distribution function (for DISCRETE & CONTINUOUS DISTRIBUTIONS)\n",
    "data.cdf(2)"
   ]
  },
  {
   "cell_type": "code",
   "execution_count": 15,
   "id": "281a3f66-e5cc-4490-9fc6-a6959597526a",
   "metadata": {},
   "outputs": [
    {
     "data": {
      "text/plain": [
       "0.5"
      ]
     },
     "execution_count": 15,
     "metadata": {},
     "output_type": "execute_result"
    }
   ],
   "source": [
    "1 - data.cdf(2)"
   ]
  },
  {
   "cell_type": "code",
   "execution_count": 16,
   "id": "167cfa2e-7d27-4b9c-9c90-cd3a397a6111",
   "metadata": {},
   "outputs": [
    {
     "data": {
      "text/plain": [
       "1.0"
      ]
     },
     "execution_count": 16,
     "metadata": {},
     "output_type": "execute_result"
    }
   ],
   "source": [
    "data.cdf(2) + (1 - data.cdf(2))"
   ]
  },
  {
   "cell_type": "code",
   "execution_count": 17,
   "id": "bfb7836f-f3a9-47fb-b96a-a412133210c3",
   "metadata": {},
   "outputs": [
    {
     "data": {
      "text/plain": [
       "0.2417303374571288"
      ]
     },
     "execution_count": 17,
     "metadata": {},
     "output_type": "execute_result"
    }
   ],
   "source": [
    "data.cdf(3.5) - data.cdf(2.5)"
   ]
  }
 ],
 "metadata": {
  "kernelspec": {
   "display_name": "Python 3 (ipykernel)",
   "language": "python",
   "name": "python3"
  },
  "language_info": {
   "codemirror_mode": {
    "name": "ipython",
    "version": 3
   },
   "file_extension": ".py",
   "mimetype": "text/x-python",
   "name": "python",
   "nbconvert_exporter": "python",
   "pygments_lexer": "ipython3",
   "version": "3.12.1"
  }
 },
 "nbformat": 4,
 "nbformat_minor": 5
}
