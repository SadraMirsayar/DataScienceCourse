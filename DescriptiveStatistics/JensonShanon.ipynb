{
 "cells": [
  {
   "cell_type": "code",
   "execution_count": 1,
   "id": "50a45411-da8f-4e24-bf1c-f9bb6f0069b6",
   "metadata": {},
   "outputs": [],
   "source": [
    "import numpy as np\n",
    "import pandas as pd\n",
    "\n",
    "from scipy import stats\n",
    "from scipy.stats import entropy\n",
    "from scipy.stats import poisson\n",
    "from scipy.stats import norm\n",
    "\n",
    "from matplotlib import pyplot as plt\n",
    "import seaborn as sns"
   ]
  },
  {
   "cell_type": "markdown",
   "id": "bfa9fd80-307c-4775-b1cc-ba7b4fbfc704",
   "metadata": {},
   "source": [
    "<center>\n",
    "    Jensen–Shannon (divergence/distance)\n",
    "</center>\n",
    "\n",
    "<!-- https://www.oreilly.com/library/view/generative-adversarial-networks/9781789136678/655a672b-e4a1-4375-a76d-254fe6a75c4e.xhtml#:~:text=It%20is%20based%20on%20KL,is%20therefore%20a%20distance%20metric. -->\n",
    "\n",
    "<div style=\"text-align:center; background:white\">\n",
    "    <img src='https://www.oreilly.com/api/v2/epubs/9781789136678/files/assets/ce0afe99-4137-4673-985a-b073ab66c347.png'>\n",
    "</div>"
   ]
  },
  {
   "cell_type": "code",
   "execution_count": 2,
   "id": "cfb1c4e9-b36b-43b8-a144-b9c9ca4a5bce",
   "metadata": {},
   "outputs": [],
   "source": [
    "def js(p, q):\n",
    "    p = p / np.linalg.norm(p, ord=1)\n",
    "    q = q / np.linalg.norm(q, ord=1)\n",
    "    m = 0.5 * (p + q)\n",
    "    r = 0.5 * (entropy(p, m) + entropy(q, m))\n",
    "    return r"
   ]
  },
  {
   "cell_type": "code",
   "execution_count": 3,
   "id": "87a6d5a7-72de-4d29-b556-e0cacf78589a",
   "metadata": {},
   "outputs": [
    {
     "data": {
      "text/html": [
       "<div>\n",
       "<style scoped>\n",
       "    .dataframe tbody tr th:only-of-type {\n",
       "        vertical-align: middle;\n",
       "    }\n",
       "\n",
       "    .dataframe tbody tr th {\n",
       "        vertical-align: top;\n",
       "    }\n",
       "\n",
       "    .dataframe thead th {\n",
       "        text-align: right;\n",
       "    }\n",
       "</style>\n",
       "<table border=\"1\" class=\"dataframe\">\n",
       "  <thead>\n",
       "    <tr style=\"text-align: right;\">\n",
       "      <th></th>\n",
       "      <th>Gender</th>\n",
       "      <th>Height</th>\n",
       "      <th>Weight</th>\n",
       "    </tr>\n",
       "  </thead>\n",
       "  <tbody>\n",
       "    <tr>\n",
       "      <th>0</th>\n",
       "      <td>Male</td>\n",
       "      <td>73.847017</td>\n",
       "      <td>241.893563</td>\n",
       "    </tr>\n",
       "    <tr>\n",
       "      <th>1</th>\n",
       "      <td>Male</td>\n",
       "      <td>68.781904</td>\n",
       "      <td>162.310473</td>\n",
       "    </tr>\n",
       "    <tr>\n",
       "      <th>2</th>\n",
       "      <td>Male</td>\n",
       "      <td>74.110105</td>\n",
       "      <td>212.740856</td>\n",
       "    </tr>\n",
       "    <tr>\n",
       "      <th>3</th>\n",
       "      <td>Male</td>\n",
       "      <td>71.730978</td>\n",
       "      <td>220.042470</td>\n",
       "    </tr>\n",
       "    <tr>\n",
       "      <th>4</th>\n",
       "      <td>Male</td>\n",
       "      <td>69.881796</td>\n",
       "      <td>206.349801</td>\n",
       "    </tr>\n",
       "  </tbody>\n",
       "</table>\n",
       "</div>"
      ],
      "text/plain": [
       "  Gender     Height      Weight\n",
       "0   Male  73.847017  241.893563\n",
       "1   Male  68.781904  162.310473\n",
       "2   Male  74.110105  212.740856\n",
       "3   Male  71.730978  220.042470\n",
       "4   Male  69.881796  206.349801"
      ]
     },
     "execution_count": 3,
     "metadata": {},
     "output_type": "execute_result"
    }
   ],
   "source": [
    "data = pd.read_csv('weight-height.csv')\n",
    "data.head()"
   ]
  },
  {
   "cell_type": "code",
   "execution_count": 4,
   "id": "93f8420c-c1a6-4aab-953a-918cebe575eb",
   "metadata": {},
   "outputs": [
    {
     "name": "stdout",
     "output_type": "stream",
     "text": [
      "[  1   1   1   1   1   3   2   7   1   5  13  11  11  11  20  21  24  35\n",
      "  32  40  45  46  68  86  77 109 113 108 121 153 155 163 185 177 190 192\n",
      " 198 185 235 226 190 233 231 233 230 191 231 201 252 204 227 212 211 243\n",
      " 215 224 228 213 172 222 209 197 181 162 142 176 136 145 130 134 139 106\n",
      " 111  86  68  57  56  47  52  43  33  31  24  17  15   9  11  12   3   8\n",
      "   8   5   3   2   1   0   1   1   2   1]\n",
      "[54.26313333 54.51048942 54.75784551 55.0052016  55.25255769 55.49991378\n",
      " 55.74726987 55.99462596 56.24198205 56.48933814 56.73669423 56.98405032\n",
      " 57.23140641 57.4787625  57.72611859 57.97347468 58.22083077 58.46818686\n",
      " 58.71554295 58.96289904 59.21025513 59.45761122 59.70496731 59.9523234\n",
      " 60.19967949 60.44703558 60.69439167 60.94174776 61.18910385 61.43645994\n",
      " 61.68381603 61.93117212 62.17852821 62.4258843  62.67324039 62.92059648\n",
      " 63.16795257 63.41530866 63.66266475 63.91002084 64.15737693 64.40473302\n",
      " 64.65208911 64.8994452  65.14680129 65.39415738 65.64151347 65.88886957\n",
      " 66.13622566 66.38358175 66.63093784 66.87829393 67.12565002 67.37300611\n",
      " 67.6203622  67.86771829 68.11507438 68.36243047 68.60978656 68.85714265\n",
      " 69.10449874 69.35185483 69.59921092 69.84656701 70.0939231  70.34127919\n",
      " 70.58863528 70.83599137 71.08334746 71.33070355 71.57805964 71.82541573\n",
      " 72.07277182 72.32012791 72.567484   72.81484009 73.06219618 73.30955227\n",
      " 73.55690836 73.80426445 74.05162054 74.29897663 74.54633272 74.79368881\n",
      " 75.0410449  75.28840099 75.53575708 75.78311317 76.03046926 76.27782535\n",
      " 76.52518144 76.77253753 77.01989362 77.26724971 77.51460581 77.7619619\n",
      " 78.00931799 78.25667408 78.50403017 78.75138626 78.99874235]\n"
     ]
    }
   ],
   "source": [
    "count, devision = np.histogram(data['Height'], bins=100)\n",
    "print(count)\n",
    "print(devision)"
   ]
  },
  {
   "cell_type": "code",
   "execution_count": 5,
   "id": "32ea9a60-1cbe-4c9c-8b11-08476491b615",
   "metadata": {},
   "outputs": [],
   "source": [
    "# https://docs.scipy.org/doc/scipy/reference/generated/scipy.stats.norm.html\n",
    "# Random variates ===> rvs(loc=0, scale=1, size=1, random_state=None)\n",
    "\n",
    "ideal = norm.rvs(size=len(data['Height']), loc=data['Height'].mean(), scale=data['Height'].std())\n",
    "icount, idevision = np.histogram(ideal, bins=100)"
   ]
  },
  {
   "cell_type": "code",
   "execution_count": 6,
   "id": "c05d9fab-2873-4414-986e-4c589f3fd848",
   "metadata": {},
   "outputs": [
    {
     "data": {
      "text/plain": [
       "0.01772662214498711"
      ]
     },
     "execution_count": 6,
     "metadata": {},
     "output_type": "execute_result"
    }
   ],
   "source": [
    "js(count, icount)"
   ]
  },
  {
   "cell_type": "code",
   "execution_count": 7,
   "id": "741c2756-0da1-4737-ba3b-0ba4a2af8612",
   "metadata": {},
   "outputs": [
    {
     "data": {
      "text/plain": [
       "0.01772662214498711"
      ]
     },
     "execution_count": 7,
     "metadata": {},
     "output_type": "execute_result"
    }
   ],
   "source": [
    "js(icount, count)"
   ]
  },
  {
   "cell_type": "code",
   "execution_count": 8,
   "id": "f26408e9-a4ac-49b0-af33-3fdafcc2f0c9",
   "metadata": {},
   "outputs": [
    {
     "data": {
      "text/plain": [
       "True"
      ]
     },
     "execution_count": 8,
     "metadata": {},
     "output_type": "execute_result"
    }
   ],
   "source": [
    "js(count, icount) == js(icount, count)"
   ]
  },
  {
   "cell_type": "code",
   "execution_count": 9,
   "id": "46f9e266-37bd-4d53-8153-0649c7f514c5",
   "metadata": {},
   "outputs": [
    {
     "data": {
      "text/plain": [
       "[<matplotlib.lines.Line2D at 0x2003a1bfe00>]"
      ]
     },
     "execution_count": 9,
     "metadata": {},
     "output_type": "execute_result"
    },
    {
     "data": {
      "image/png": "[encoded data removed]",
      "text/plain": [
       "<Figure size 640x480 with 1 Axes>"
      ]
     },
     "metadata": {},
     "output_type": "display_data"
    }
   ],
   "source": [
    "plt.plot(count, c='blue')\n",
    "plt.plot(icount, c='red')"
   ]
  },
  {
   "cell_type": "code",
   "execution_count": 10,
   "id": "5b987d58-f71b-4a1e-81c0-a5b3f8cc5c76",
   "metadata": {},
   "outputs": [
    {
     "data": {
      "text/html": [
       "<div>\n",
       "<style scoped>\n",
       "    .dataframe tbody tr th:only-of-type {\n",
       "        vertical-align: middle;\n",
       "    }\n",
       "\n",
       "    .dataframe tbody tr th {\n",
       "        vertical-align: top;\n",
       "    }\n",
       "\n",
       "    .dataframe thead th {\n",
       "        text-align: right;\n",
       "    }\n",
       "</style>\n",
       "<table border=\"1\" class=\"dataframe\">\n",
       "  <thead>\n",
       "    <tr style=\"text-align: right;\">\n",
       "      <th></th>\n",
       "      <th>10 Min Std Dev</th>\n",
       "      <th>Time</th>\n",
       "      <th>10 Min Sampled Avg</th>\n",
       "    </tr>\n",
       "  </thead>\n",
       "  <tbody>\n",
       "    <tr>\n",
       "      <th>0</th>\n",
       "      <td>2.73</td>\n",
       "      <td>2001-06-11 11:00</td>\n",
       "      <td>22.3</td>\n",
       "    </tr>\n",
       "    <tr>\n",
       "      <th>1</th>\n",
       "      <td>1.98</td>\n",
       "      <td>2001-06-11 11:10</td>\n",
       "      <td>23.0</td>\n",
       "    </tr>\n",
       "    <tr>\n",
       "      <th>2</th>\n",
       "      <td>1.87</td>\n",
       "      <td>2001-06-11 11:20</td>\n",
       "      <td>23.3</td>\n",
       "    </tr>\n",
       "    <tr>\n",
       "      <th>3</th>\n",
       "      <td>2.03</td>\n",
       "      <td>2001-06-11 11:30</td>\n",
       "      <td>22.0</td>\n",
       "    </tr>\n",
       "    <tr>\n",
       "      <th>4</th>\n",
       "      <td>3.10</td>\n",
       "      <td>2001-06-11 11:40</td>\n",
       "      <td>20.5</td>\n",
       "    </tr>\n",
       "  </tbody>\n",
       "</table>\n",
       "</div>"
      ],
      "text/plain": [
       "   10 Min Std Dev              Time  10 Min Sampled Avg\n",
       "0            2.73  2001-06-11 11:00                22.3\n",
       "1            1.98  2001-06-11 11:10                23.0\n",
       "2            1.87  2001-06-11 11:20                23.3\n",
       "3            2.03  2001-06-11 11:30                22.0\n",
       "4            3.10  2001-06-11 11:40                20.5"
      ]
     },
     "execution_count": 10,
     "metadata": {},
     "output_type": "execute_result"
    }
   ],
   "source": [
    "# https://github.com/plotly/datasets/blob/master/wind_speed_laurel_nebraska.csv\n",
    "\n",
    "wsData = pd.read_csv('wind_speed_laurel_nebraska.csv')\n",
    "wsData.head()"
   ]
  },
  {
   "cell_type": "code",
   "execution_count": 11,
   "id": "70d3b001-83f0-40c0-93e2-a4c14d6b1310",
   "metadata": {},
   "outputs": [
    {
     "name": "stdout",
     "output_type": "stream",
     "text": [
      "[ 1  0  1  0  0  0  0  0  1  0  1  1  0  3  2  1  2  0  1  0  1  0  0  3\n",
      "  2  3  5  1  1  1  2  1  4  3  3 11  6 11  3  9  4  1  6  4  4  3  5  1\n",
      "  4  3  1  3  1  1  1  2  2  1  4  2  2  4  4  1  3  2  2  1  3  0  6  7\n",
      "  1  5  5  2  3  1  7  6  0  3  2  1  3  2  2  0  0  1  1  1  0  1  0  0\n",
      "  0  0  0  2]\n",
      "[ 4.9    5.178  5.456  5.734  6.012  6.29   6.568  6.846  7.124  7.402\n",
      "  7.68   7.958  8.236  8.514  8.792  9.07   9.348  9.626  9.904 10.182\n",
      " 10.46  10.738 11.016 11.294 11.572 11.85  12.128 12.406 12.684 12.962\n",
      " 13.24  13.518 13.796 14.074 14.352 14.63  14.908 15.186 15.464 15.742\n",
      " 16.02  16.298 16.576 16.854 17.132 17.41  17.688 17.966 18.244 18.522\n",
      " 18.8   19.078 19.356 19.634 19.912 20.19  20.468 20.746 21.024 21.302\n",
      " 21.58  21.858 22.136 22.414 22.692 22.97  23.248 23.526 23.804 24.082\n",
      " 24.36  24.638 24.916 25.194 25.472 25.75  26.028 26.306 26.584 26.862\n",
      " 27.14  27.418 27.696 27.974 28.252 28.53  28.808 29.086 29.364 29.642\n",
      " 29.92  30.198 30.476 30.754 31.032 31.31  31.588 31.866 32.144 32.422\n",
      " 32.7  ]\n"
     ]
    }
   ],
   "source": [
    "count, devision = np.histogram(wsData['10 Min Sampled Avg'], bins=100)\n",
    "print(count)\n",
    "print(devision)"
   ]
  },
  {
   "cell_type": "code",
   "execution_count": 12,
   "id": "ef5155a6-d2b6-43e8-a998-ccf9417fa523",
   "metadata": {},
   "outputs": [
    {
     "name": "stdout",
     "output_type": "stream",
     "text": [
      "[1 0 0 0 0 0 0 1 0 0 1 0 0 0 0 2 0 0 2 0 0 2 1 1 0 2 4 2 3 1 1 2 2 2 3 7 3\n",
      " 3 0 6 7 3 1 5 8 5 4 8 7 6 7 7 5 5 5 5 6 6 4 5 5 2 5 3 6 3 3 3 3 2 1 3 3 0\n",
      " 0 0 1 2 1 2 0 0 0 1 3 2 1 1 0 1 0 0 0 2 0 0 0 0 0 1]\n",
      "[51.05675735 51.36067248 51.66458761 51.96850274 52.27241787 52.576333\n",
      " 52.88024813 53.18416326 53.48807839 53.79199351 54.09590864 54.39982377\n",
      " 54.7037389  55.00765403 55.31156916 55.61548429 55.91939942 56.22331455\n",
      " 56.52722968 56.8311448  57.13505993 57.43897506 57.74289019 58.04680532\n",
      " 58.35072045 58.65463558 58.95855071 59.26246584 59.56638097 59.8702961\n",
      " 60.17421122 60.47812635 60.78204148 61.08595661 61.38987174 61.69378687\n",
      " 61.997702   62.30161713 62.60553226 62.90944739 63.21336251 63.51727764\n",
      " 63.82119277 64.1251079  64.42902303 64.73293816 65.03685329 65.34076842\n",
      " 65.64468355 65.94859868 66.2525138  66.55642893 66.86034406 67.16425919\n",
      " 67.46817432 67.77208945 68.07600458 68.37991971 68.68383484 68.98774997\n",
      " 69.29166509 69.59558022 69.89949535 70.20341048 70.50732561 70.81124074\n",
      " 71.11515587 71.419071   71.72298613 72.02690126 72.33081639 72.63473151\n",
      " 72.93864664 73.24256177 73.5464769  73.85039203 74.15430716 74.45822229\n",
      " 74.76213742 75.06605255 75.36996768 75.6738828  75.97779793 76.28171306\n",
      " 76.58562819 76.88954332 77.19345845 77.49737358 77.80128871 78.10520384\n",
      " 78.40911897 78.71303409 79.01694922 79.32086435 79.62477948 79.92869461\n",
      " 80.23260974 80.53652487 80.84044    81.14435513 81.44827026]\n"
     ]
    }
   ],
   "source": [
    "ideal = norm.rvs(size=len(wsData['10 Min Sampled Avg']), loc=wsData['10 Min Sampled Avg'].mean(), scale=wsData['10 Min Sampled Avg'])\n",
    "icount, ideve = np.histogram(ideal, bins=100)\n",
    "print(icount)\n",
    "print(idevision)"
   ]
  },
  {
   "cell_type": "code",
   "execution_count": 13,
   "id": "90f94dd3-e386-4ba9-ad9d-766fff1e52c6",
   "metadata": {},
   "outputs": [
    {
     "data": {
      "text/plain": [
       "0.14995767291274986"
      ]
     },
     "execution_count": 13,
     "metadata": {},
     "output_type": "execute_result"
    }
   ],
   "source": [
    "js(count, icount)"
   ]
  },
  {
   "cell_type": "code",
   "execution_count": 14,
   "id": "ea55ecaa-c25b-45d1-bc14-84038e0e2040",
   "metadata": {},
   "outputs": [
    {
     "data": {
      "text/plain": [
       "0.14995767291274986"
      ]
     },
     "execution_count": 14,
     "metadata": {},
     "output_type": "execute_result"
    }
   ],
   "source": [
    "js(icount, count)"
   ]
  },
  {
   "cell_type": "code",
   "execution_count": 15,
   "id": "832bc57b-bd7a-4609-b79d-8c30fd6d05ca",
   "metadata": {},
   "outputs": [
    {
     "data": {
      "text/plain": [
       "True"
      ]
     },
     "execution_count": 15,
     "metadata": {},
     "output_type": "execute_result"
    }
   ],
   "source": [
    "js(count, icount) == js(icount, count)"
   ]
  },
  {
   "cell_type": "code",
   "execution_count": 16,
   "id": "c2f6e063-aebb-48c9-97f1-4a8a6fd8056c",
   "metadata": {},
   "outputs": [
    {
     "data": {
      "text/plain": [
       "<Axes: >"
      ]
     },
     "execution_count": 16,
     "metadata": {},
     "output_type": "execute_result"
    },
    {
     "data": {
      "image/png": "[encoded data removed]",
      "text/plain": [
       "<Figure size 640x480 with 1 Axes>"
      ]
     },
     "metadata": {},
     "output_type": "display_data"
    }
   ],
   "source": [
    "wsData['10 Min Sampled Avg'].hist(bins=100)"
   ]
  }
 ],
 "metadata": {
  "kernelspec": {
   "display_name": "Python 3 (ipykernel)",
   "language": "python",
   "name": "python3"
  },
  "language_info": {
   "codemirror_mode": {
    "name": "ipython",
    "version": 3
   },
   "file_extension": ".py",
   "mimetype": "text/x-python",
   "name": "python",
   "nbconvert_exporter": "python",
   "pygments_lexer": "ipython3",
   "version": "3.12.1"
  }
 },
 "nbformat": 4,
 "nbformat_minor": 5
}
